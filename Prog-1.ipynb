{
 "cells": [
  {
   "cell_type": "markdown",
   "id": "d457251d-534a-4934-91a9-681161782e86",
   "metadata": {},
   "source": [
    "## **Introduction to Python Programming**"
   ]
  },
  {
   "cell_type": "code",
   "execution_count": null,
   "id": "38013e14-ef9e-4ab0-9800-4d4475cfec34",
   "metadata": {},
   "outputs": [],
   "source": [
    "# This is a comment line\n",
    "# this is another comment line\n",
    "# this is the last comment line"
   ]
  },
  {
   "cell_type": "markdown",
   "id": "f6e22fef-465a-4114-96eb-e85bee1f1f55",
   "metadata": {},
   "source": [
    "### Python Inputs and outputs"
   ]
  },
  {
   "cell_type": "code",
   "execution_count": 2,
   "id": "8aa67043-3e99-44a4-8c8d-d918de6de5e3",
   "metadata": {},
   "outputs": [
    {
     "name": "stdin",
     "output_type": "stream",
     "text": [
      "Please enter the first number:  100\n",
      "Please enter the second number:  400\n"
     ]
    },
    {
     "name": "stdout",
     "output_type": "stream",
     "text": [
      "100 <class 'str'> 400 <class 'str'>\n",
      "So the result is 100400\n",
      "End of the program....\n"
     ]
    }
   ],
   "source": [
    "num1 = input(\"Please enter the first number: \")\n",
    "num2 = input(\"Please enter the second number: \")\n",
    "print (num1, type(num1), num2, type(num2))\n",
    "result = num1 + num2\n",
    "print (\"So the result is\", result)\n",
    "print (\"End of the program....\")"
   ]
  },
  {
   "cell_type": "code",
   "execution_count": 4,
   "id": "f2db90e1-d0c5-4e01-8bf4-72b3c885a274",
   "metadata": {},
   "outputs": [
    {
     "name": "stdin",
     "output_type": "stream",
     "text": [
      "Please enter the first number:  100\n",
      "Please enter the second number:  400\n"
     ]
    },
    {
     "name": "stdout",
     "output_type": "stream",
     "text": [
      "100 <class 'int'> 400 <class 'int'>\n",
      "So the result is 500\n",
      "End of the program....\n"
     ]
    }
   ],
   "source": [
    "num1 = int(input(\"Please enter the first number: \"))\n",
    "num2 = int(input(\"Please enter the second number: \"))\n",
    "print (num1, type(num1), num2, type(num2))\n",
    "result = num1 + num2\n",
    "print (\"So the result is\", result)\n",
    "print (\"End of the program....\")"
   ]
  },
  {
   "cell_type": "code",
   "execution_count": 21,
   "id": "c5b1a7bf-bbbe-4d83-89cb-357d1fce41f3",
   "metadata": {},
   "outputs": [
    {
     "name": "stdout",
     "output_type": "stream",
     "text": [
      "So 100 + 400 = 500\n",
      "So 100 + 400 = 500\n",
      "So 100 + 400 = 500\n",
      "So 100 + 400 = 500\n",
      "So 100 + 400 = 500\n",
      "So 100 + 400 = 500\n",
      "So 100 + 400 = 500\n",
      "So 100 + 400.000000 = 500\n",
      "So 100 +   400.00 = 500\n",
      "So 100 + 400 = 500\n"
     ]
    }
   ],
   "source": [
    "print (\"So\", num1, \"+\", num2, \"=\", result)\n",
    "print (\"So \" + str(num1) + \" + \" + str(num2) + \" = \" + str(result))\n",
    "print (\"So {} + {} = {}\".format(num1, num2, result))   # {} is variable place-holder\n",
    "print (\"So {0} + {1} = {2}\".format(num1, num2, result)) # {} numbered place-holder\n",
    "print (\"So {2} + {1} = {0}\".format(result, num2, num1))\n",
    "print (\"So {fnum} + {snum} = {tot}\".format(fnum=num1, snum=num2, tot=result)) # labeled placeholder\n",
    "print (\"So %d + %d = %d\"%(num1, num2, result))\n",
    "print (\"So %d + %f = %d\"%(num1, num2, result))\n",
    "print (\"So %d + %8.2f = %d\"%(num1, num2, result))\n",
    "print (f\"So {num1} + {num2} = {result}\")  # f stands for smart formatting available from Python version 2.7"
   ]
  },
  {
   "cell_type": "markdown",
   "id": "f0a19143-5df3-4baf-9128-987ff923eae7",
   "metadata": {},
   "source": [
    "### Python Operators"
   ]
  },
  {
   "cell_type": "code",
   "execution_count": 23,
   "id": "e1f93a80-78ca-4785-a62d-aabbc729ee63",
   "metadata": {},
   "outputs": [
    {
     "name": "stdout",
     "output_type": "stream",
     "text": [
      "140\n",
      "60\n",
      "4000\n",
      "2.5\n",
      "2\n",
      "20\n",
      "100000000\n"
     ]
    }
   ],
   "source": [
    "# arithmetic operators\n",
    "print (100 + 40)   # addition\n",
    "print (100 - 40)   # subtraction\n",
    "print (100 * 40)   # multiplication\n",
    "print (100 / 40)   # float division\n",
    "print (100 // 40)  # integer division\n",
    "print (100 % 40)   # modulus, remainder of the division\n",
    "print (100 ** 4)   # exponentiation, to the power of"
   ]
  },
  {
   "cell_type": "code",
   "execution_count": 25,
   "id": "81c893de-66f0-46aa-a121-1782b2be5c35",
   "metadata": {},
   "outputs": [
    {
     "name": "stdout",
     "output_type": "stream",
     "text": [
      "True True True True True True\n"
     ]
    }
   ],
   "source": [
    "# relational operators\n",
    "print (100 > 40, 100 >= 40, 40 < 100, 40 <= 100, 40 != 100, 100 == 100)"
   ]
  },
  {
   "cell_type": "code",
   "execution_count": 27,
   "id": "7820e462-c736-45aa-ba11-903505c61ec4",
   "metadata": {},
   "outputs": [
    {
     "name": "stdout",
     "output_type": "stream",
     "text": [
      "False True True True\n",
      "False False False True\n",
      "False True\n"
     ]
    }
   ],
   "source": [
    "# logical operator\n",
    "print (False or False, False or True, True or False, True or True)\n",
    "print (False and False, False and True, True and False, True and True)\n",
    "print (not True, not False)"
   ]
  },
  {
   "cell_type": "markdown",
   "id": "ec4d4a17-adb8-423f-afaa-8d87ed5ee022",
   "metadata": {},
   "source": [
    "### Conditional Statements"
   ]
  },
  {
   "cell_type": "code",
   "execution_count": null,
   "id": "f9c2b0c9-1446-4417-907c-c64f43a8e2d4",
   "metadata": {},
   "outputs": [],
   "source": [
    "num1 = int(input(\"Please enter the first number: \"))\n",
    "num2 = int(input(\"Please enter the second number: \"))\n",
    "num3 = int(input(\"Please enter the third number: \"))\n",
    "if (num1 > num2):\n",
    "    if (num1 > num3):\n",
    "        print (\"So the First number is the maximum number...\")\n",
    "        print (f\"So the maximum number is {num1}...\")\n",
    "    else:\n",
    "        print (\"So the Third number is the maximum number...\")\n",
    "        print (f\"So the maximum number is {num3}...\")\n",
    "elif (num2 > num3):\n",
    "    print (\"So the Second number is the maximum number...\")\n",
    "    print (f\"So the maximum number is {num2}...\")\n",
    "else:\n",
    "    print (\"So the Third number if the maximum number...\")\n",
    "    print (f\"So the maximum number is {num3}...\")\n",
    "print (\"End of the program...\")"
   ]
  },
  {
   "cell_type": "code",
   "execution_count": null,
   "id": "68418aa0-4e92-4be1-970c-b626ea92ad13",
   "metadata": {},
   "outputs": [],
   "source": []
  },
  {
   "cell_type": "code",
   "execution_count": null,
   "id": "552920e9-9515-40ef-9293-cb594c75ec51",
   "metadata": {},
   "outputs": [],
   "source": []
  },
  {
   "cell_type": "code",
   "execution_count": null,
   "id": "868278ff-2eca-4bf7-899f-63a887964b69",
   "metadata": {},
   "outputs": [],
   "source": []
  }
 ],
 "metadata": {
  "kernelspec": {
   "display_name": "Python 3 (ipykernel)",
   "language": "python",
   "name": "python3"
  },
  "language_info": {
   "codemirror_mode": {
    "name": "ipython",
    "version": 3
   },
   "file_extension": ".py",
   "mimetype": "text/x-python",
   "name": "python",
   "nbconvert_exporter": "python",
   "pygments_lexer": "ipython3",
   "version": "3.10.9"
  }
 },
 "nbformat": 4,
 "nbformat_minor": 5
}
