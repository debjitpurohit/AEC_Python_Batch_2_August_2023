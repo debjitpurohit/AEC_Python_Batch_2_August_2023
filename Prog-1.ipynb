{
 "cells": [
  {
   "cell_type": "markdown",
   "id": "d457251d-534a-4934-91a9-681161782e86",
   "metadata": {},
   "source": [
    "## **Introduction to Python Programming**"
   ]
  },
  {
   "cell_type": "code",
   "execution_count": null,
   "id": "38013e14-ef9e-4ab0-9800-4d4475cfec34",
   "metadata": {},
   "outputs": [],
   "source": [
    "# This is a comment line\n",
    "# this is another comment line\n",
    "# this is the last comment line"
   ]
  },
  {
   "cell_type": "markdown",
   "id": "f6e22fef-465a-4114-96eb-e85bee1f1f55",
   "metadata": {},
   "source": [
    "### Python Inputs and outputs"
   ]
  },
  {
   "cell_type": "code",
   "execution_count": 2,
   "id": "8aa67043-3e99-44a4-8c8d-d918de6de5e3",
   "metadata": {},
   "outputs": [
    {
     "name": "stdin",
     "output_type": "stream",
     "text": [
      "Please enter the first number:  100\n",
      "Please enter the second number:  400\n"
     ]
    },
    {
     "name": "stdout",
     "output_type": "stream",
     "text": [
      "100 <class 'str'> 400 <class 'str'>\n",
      "So the result is 100400\n",
      "End of the program....\n"
     ]
    }
   ],
   "source": [
    "num1 = input(\"Please enter the first number: \")\n",
    "num2 = input(\"Please enter the second number: \")\n",
    "print (num1, type(num1), num2, type(num2))\n",
    "result = num1 + num2\n",
    "print (\"So the result is\", result)\n",
    "print (\"End of the program....\")"
   ]
  },
  {
   "cell_type": "code",
   "execution_count": 4,
   "id": "f2db90e1-d0c5-4e01-8bf4-72b3c885a274",
   "metadata": {},
   "outputs": [
    {
     "name": "stdin",
     "output_type": "stream",
     "text": [
      "Please enter the first number:  100\n",
      "Please enter the second number:  400\n"
     ]
    },
    {
     "name": "stdout",
     "output_type": "stream",
     "text": [
      "100 <class 'int'> 400 <class 'int'>\n",
      "So the result is 500\n",
      "End of the program....\n"
     ]
    }
   ],
   "source": [
    "num1 = int(input(\"Please enter the first number: \"))\n",
    "num2 = int(input(\"Please enter the second number: \"))\n",
    "print (num1, type(num1), num2, type(num2))\n",
    "result = num1 + num2\n",
    "print (\"So the result is\", result)\n",
    "print (\"End of the program....\")"
   ]
  },
  {
   "cell_type": "code",
   "execution_count": 21,
   "id": "c5b1a7bf-bbbe-4d83-89cb-357d1fce41f3",
   "metadata": {},
   "outputs": [
    {
     "name": "stdout",
     "output_type": "stream",
     "text": [
      "So 100 + 400 = 500\n",
      "So 100 + 400 = 500\n",
      "So 100 + 400 = 500\n",
      "So 100 + 400 = 500\n",
      "So 100 + 400 = 500\n",
      "So 100 + 400 = 500\n",
      "So 100 + 400 = 500\n",
      "So 100 + 400.000000 = 500\n",
      "So 100 +   400.00 = 500\n",
      "So 100 + 400 = 500\n"
     ]
    }
   ],
   "source": [
    "print (\"So\", num1, \"+\", num2, \"=\", result)\n",
    "print (\"So \" + str(num1) + \" + \" + str(num2) + \" = \" + str(result))\n",
    "print (\"So {} + {} = {}\".format(num1, num2, result))   # {} is variable place-holder\n",
    "print (\"So {0} + {1} = {2}\".format(num1, num2, result)) # {} numbered place-holder\n",
    "print (\"So {2} + {1} = {0}\".format(result, num2, num1))\n",
    "print (\"So {fnum} + {snum} = {tot}\".format(fnum=num1, snum=num2, tot=result)) # labeled placeholder\n",
    "print (\"So %d + %d = %d\"%(num1, num2, result))\n",
    "print (\"So %d + %f = %d\"%(num1, num2, result))\n",
    "print (\"So %d + %8.2f = %d\"%(num1, num2, result))\n",
    "print (f\"So {num1} + {num2} = {result}\")  # f stands for smart formatting available from Python version 2.7"
   ]
  },
  {
   "cell_type": "markdown",
   "id": "f0a19143-5df3-4baf-9128-987ff923eae7",
   "metadata": {},
   "source": [
    "### Python Operators"
   ]
  },
  {
   "cell_type": "code",
   "execution_count": 23,
   "id": "e1f93a80-78ca-4785-a62d-aabbc729ee63",
   "metadata": {},
   "outputs": [
    {
     "name": "stdout",
     "output_type": "stream",
     "text": [
      "140\n",
      "60\n",
      "4000\n",
      "2.5\n",
      "2\n",
      "20\n",
      "100000000\n"
     ]
    }
   ],
   "source": [
    "# arithmetic operators\n",
    "print (100 + 40)   # addition\n",
    "print (100 - 40)   # subtraction\n",
    "print (100 * 40)   # multiplication\n",
    "print (100 / 40)   # float division\n",
    "print (100 // 40)  # integer division\n",
    "print (100 % 40)   # modulus, remainder of the division\n",
    "print (100 ** 4)   # exponentiation, to the power of"
   ]
  },
  {
   "cell_type": "code",
   "execution_count": 25,
   "id": "81c893de-66f0-46aa-a121-1782b2be5c35",
   "metadata": {},
   "outputs": [
    {
     "name": "stdout",
     "output_type": "stream",
     "text": [
      "True True True True True True\n"
     ]
    }
   ],
   "source": [
    "# relational operators\n",
    "print (100 > 40, 100 >= 40, 40 < 100, 40 <= 100, 40 != 100, 100 == 100)"
   ]
  },
  {
   "cell_type": "code",
   "execution_count": 27,
   "id": "7820e462-c736-45aa-ba11-903505c61ec4",
   "metadata": {},
   "outputs": [
    {
     "name": "stdout",
     "output_type": "stream",
     "text": [
      "False True True True\n",
      "False False False True\n",
      "False True\n"
     ]
    }
   ],
   "source": [
    "# logical operator\n",
    "print (False or False, False or True, True or False, True or True)\n",
    "print (False and False, False and True, True and False, True and True)\n",
    "print (not True, not False)"
   ]
  },
  {
   "cell_type": "markdown",
   "id": "ec4d4a17-adb8-423f-afaa-8d87ed5ee022",
   "metadata": {},
   "source": [
    "### Conditional Statements"
   ]
  },
  {
   "cell_type": "code",
   "execution_count": 34,
   "id": "f9c2b0c9-1446-4417-907c-c64f43a8e2d4",
   "metadata": {},
   "outputs": [
    {
     "name": "stdin",
     "output_type": "stream",
     "text": [
      "Please enter the first number:  100\n",
      "Please enter the second number:  200\n",
      "Please enter the third number:  300\n"
     ]
    },
    {
     "name": "stdout",
     "output_type": "stream",
     "text": [
      "So the Third number if the maximum number...\n",
      "So the maximum number is 300...\n",
      "End of the program...\n"
     ]
    }
   ],
   "source": [
    "# find out the maximum number out of three user given numbers\n",
    "num1 = int(input(\"Please enter the first number: \"))\n",
    "num2 = int(input(\"Please enter the second number: \"))\n",
    "num3 = int(input(\"Please enter the third number: \"))\n",
    "if (num1 > num2):\n",
    "    if (num1 > num3):\n",
    "        print (\"So the First number is the maximum number...\")\n",
    "        print (f\"So the maximum number is {num1}...\")\n",
    "    else:\n",
    "        print (\"So the Third number is the maximum number...\")\n",
    "        print (f\"So the maximum number is {num3}...\")\n",
    "elif (num2 > num3):\n",
    "    print (\"So the Second number is the maximum number...\")\n",
    "    print (f\"So the maximum number is {num2}...\")\n",
    "else:\n",
    "    print (\"So the Third number if the maximum number...\")\n",
    "    print (f\"So the maximum number is {num3}...\")\n",
    "print (\"End of the program...\")"
   ]
  },
  {
   "cell_type": "code",
   "execution_count": 37,
   "id": "68418aa0-4e92-4be1-970c-b626ea92ad13",
   "metadata": {},
   "outputs": [
    {
     "name": "stdin",
     "output_type": "stream",
     "text": [
      "Please enter the first number:  200\n",
      "Please enter the second number:  100\n",
      "Please enter the third number:  300\n"
     ]
    },
    {
     "name": "stdout",
     "output_type": "stream",
     "text": [
      "So the Third number if the maximum number...\n",
      "So the maximum number is 300...\n",
      "End of the program...\n"
     ]
    }
   ],
   "source": [
    "# find out the maximum number out of three user given numbers\n",
    "num1 = int(input(\"Please enter the first number: \"))\n",
    "num2 = int(input(\"Please enter the second number: \"))\n",
    "num3 = int(input(\"Please enter the third number: \"))\n",
    "if (num1 > num2 and num1 > num3):\n",
    "    print (\"So the First number is the maximum number...\")\n",
    "    print (f\"So the maximum number is {num1}...\")\n",
    "elif (num2 > num3):\n",
    "    print (\"So the Second number is the maximum number...\")\n",
    "    print (f\"So the maximum number is {num2}...\")\n",
    "else:\n",
    "    print (\"So the Third number if the maximum number...\")\n",
    "    print (f\"So the maximum number is {num3}...\")\n",
    "print (\"End of the program...\")"
   ]
  },
  {
   "cell_type": "code",
   "execution_count": null,
   "id": "552920e9-9515-40ef-9293-cb594c75ec51",
   "metadata": {},
   "outputs": [],
   "source": [
    "# find out the second maximum number out of three user given numbers\n",
    "read num1, num2, num3\n",
    "Section-1\n",
    "now compare num1 and num2 and put the maximum of them in max1 and other in max2\n",
    "Section-2\n",
    "Now we shall deal with max1, max2 and num3\n",
    "\n",
    "                            max1          max2\n",
    "                            500           200\n",
    "             num3 =>   800          400          100\n",
    "   Second maximum =>   500          400          200\n",
    "                       max1         num3         max2"
   ]
  },
  {
   "cell_type": "code",
   "execution_count": 40,
   "id": "868278ff-2eca-4bf7-899f-63a887964b69",
   "metadata": {},
   "outputs": [
    {
     "name": "stdin",
     "output_type": "stream",
     "text": [
      "Please enter the first number:  300\n",
      "Please enter the second number:  100\n",
      "Please enter the third number:  200\n"
     ]
    },
    {
     "name": "stdout",
     "output_type": "stream",
     "text": [
      "So the second maximum number is 200...\n",
      "End of the program...\n"
     ]
    }
   ],
   "source": [
    "# find out the second maximum number out of three user given numbers\n",
    "num1 = int(input(\"Please enter the first number: \"))\n",
    "num2 = int(input(\"Please enter the second number: \"))\n",
    "num3 = int(input(\"Please enter the third number: \"))\n",
    "if (num1 > num2): max1 = num1; max2 = num2\n",
    "else: max1 = num2; max2 = num1\n",
    "if (num3 > max1):\n",
    "    print (f\"So the second maximum number is {max1}...\")\n",
    "elif (num3 > max2):\n",
    "    print (f\"So the second maximum number is {num3}...\")\n",
    "else:\n",
    "    print (f\"So the second maximum number is {max2}...\")\n",
    "print (\"End of the program...\")"
   ]
  },
  {
   "cell_type": "markdown",
   "id": "89b23f33-0606-4626-9d9d-f253fad548ee",
   "metadata": {},
   "source": [
    "### Loop Construct"
   ]
  },
  {
   "cell_type": "code",
   "execution_count": 42,
   "id": "4eaf24c2-c5b3-4140-a697-8d669b6b22d0",
   "metadata": {},
   "outputs": [
    {
     "name": "stdout",
     "output_type": "stream",
     "text": [
      "0 Hello\n",
      "1 Hello\n",
      "2 Hello\n",
      "3 Hello\n",
      "4 Hello\n",
      "5 Hello\n",
      "6 Hello\n",
      "7 Hello\n"
     ]
    }
   ],
   "source": [
    "for i in range(8):\n",
    "    print (i, \"Hello\")"
   ]
  },
  {
   "cell_type": "code",
   "execution_count": 88,
   "id": "ffba6386-c845-465d-b0b0-1d78106b99e4",
   "metadata": {},
   "outputs": [
    {
     "name": "stdout",
     "output_type": "stream",
     "text": [
      "Welcome Everyone\n",
      "To All\n"
     ]
    }
   ],
   "source": [
    "print (\"Welcome\", \"Everyone\")\n",
    "print (\"To All\")"
   ]
  },
  {
   "cell_type": "code",
   "execution_count": 49,
   "id": "72337b9c-4537-4b50-bd12-875e8c2ca2df",
   "metadata": {},
   "outputs": [
    {
     "name": "stdout",
     "output_type": "stream",
     "text": [
      "Help on built-in function print in module builtins:\n",
      "\n",
      "print(...)\n",
      "    print(value, ..., sep=' ', end='\\n', file=sys.stdout, flush=False)\n",
      "    \n",
      "    Prints the values to a stream, or to sys.stdout by default.\n",
      "    Optional keyword arguments:\n",
      "    file:  a file-like object (stream); defaults to the current sys.stdout.\n",
      "    sep:   string inserted between values, default a space.\n",
      "    end:   string appended after the last value, default a newline.\n",
      "    flush: whether to forcibly flush the stream.\n",
      "\n"
     ]
    }
   ],
   "source": [
    "help(print)   # ... is called ellipsis operator"
   ]
  },
  {
   "cell_type": "code",
   "execution_count": 53,
   "id": "a8527e98-f9d3-4925-82af-e9d572c2562c",
   "metadata": {},
   "outputs": [
    {
     "name": "stdout",
     "output_type": "stream",
     "text": [
      "Welcome Everyone\n",
      "To All\n",
      "Welcome - Everyone; To All\n",
      "Welcome;;;Everyone\n",
      "To All\n"
     ]
    }
   ],
   "source": [
    "print (\"Welcome\", \"Everyone\")\n",
    "print (\"To All\")\n",
    "print (\"Welcome\", \"Everyone\", sep = \" - \", end = \"; \")\n",
    "print (\"To All\")\n",
    "print (\"Welcome\", \"Everyone\", sep = \";;;\")\n",
    "print (\"To All\")"
   ]
  },
  {
   "cell_type": "code",
   "execution_count": 57,
   "id": "69a30075-57e4-4901-a141-d22974e3049a",
   "metadata": {},
   "outputs": [
    {
     "name": "stdout",
     "output_type": "stream",
     "text": [
      "0 Hello, 1 Hello, 2 Hello, 3 Hello, 4 Hello, 5 Hello, 6 Hello, 7 Hello, \n",
      "0 Welcome, 1 Welcome, 2 Welcome, 3 Welcome, 4 Welcome, 5 Welcome, 6 Welcome, 7 Welcome, \n",
      "0 Bye, 1 Bye, 2 Bye, 3 Bye, 4 Bye, 5 Bye, 6 Bye, 7 Bye, "
     ]
    }
   ],
   "source": [
    "for i in range(8):\n",
    "    print (i, \"Hello\", end = \", \")\n",
    "print ()\n",
    "for i in range(0, 8):\n",
    "    print (i, \"Welcome\", end = \", \")\n",
    "print ()\n",
    "for i in range(0, 8, 1):\n",
    "    print (i, \"Bye\", end = \", \")"
   ]
  },
  {
   "cell_type": "code",
   "execution_count": 60,
   "id": "b393b9b1-f6b4-49b4-9e93-c0682e137b56",
   "metadata": {},
   "outputs": [
    {
     "name": "stdout",
     "output_type": "stream",
     "text": [
      "0 Bye, 2 Bye, 4 Bye, 6 Bye, \n",
      "1 Bye, 3 Bye, 5 Bye, 7 Bye, "
     ]
    }
   ],
   "source": [
    "for i in range(0, 8, 2):\n",
    "    print (i, \"Bye\", end = \", \")\n",
    "print()\n",
    "for i in range(1, 8, 2):\n",
    "    print (i, \"Bye\", end = \", \")"
   ]
  },
  {
   "cell_type": "code",
   "execution_count": 66,
   "id": "066573ce-abd7-4191-8bef-4c66a73495cb",
   "metadata": {},
   "outputs": [
    {
     "name": "stdout",
     "output_type": "stream",
     "text": [
      "Hello Hello Hello Hello Hello \n",
      "Good Day Good Day Good Day Good Day \n",
      "AEC AEC AEC AEC AEC AEC AEC AEC AEC AEC \n"
     ]
    }
   ],
   "source": [
    "print (\"Hello \" * 5)\n",
    "print (\"Good Day \" * 4)\n",
    "print (\"AEC \" * 10)"
   ]
  },
  {
   "cell_type": "code",
   "execution_count": 102,
   "id": "265ceaaf-d32a-4961-acda-226b4c7579a1",
   "metadata": {},
   "outputs": [
    {
     "name": "stdout",
     "output_type": "stream",
     "text": [
      "Visit Doctor...\n",
      "Good Morning...\n",
      "Day Number - 1 and Medicine Number - 1...\n",
      "Day Number - 1 and Medicine Number - 2...\n",
      "Day Number - 1 and Medicine Number - 3...\n",
      "Good Night...\n",
      "-----------------------------------------------------------\n",
      "Good Morning...\n",
      "Day Number - 2 and Medicine Number - 1...\n",
      "Day Number - 2 and Medicine Number - 2...\n",
      "Day Number - 2 and Medicine Number - 3...\n",
      "Good Night...\n",
      "-----------------------------------------------------------\n",
      "Good Morning...\n",
      "Day Number - 3 and Medicine Number - 1...\n",
      "Day Number - 3 and Medicine Number - 2...\n",
      "Day Number - 3 and Medicine Number - 3...\n",
      "Good Night...\n",
      "-----------------------------------------------------------\n",
      "Good Morning...\n",
      "Day Number - 4 and Medicine Number - 1...\n",
      "Day Number - 4 and Medicine Number - 2...\n",
      "Day Number - 4 and Medicine Number - 3...\n",
      "Good Night...\n",
      "-----------------------------------------------------------\n",
      "Good Morning...\n",
      "Day Number - 5 and Medicine Number - 1...\n",
      "Day Number - 5 and Medicine Number - 2...\n",
      "Day Number - 5 and Medicine Number - 3...\n",
      "Good Night...\n",
      "-----------------------------------------------------------\n",
      "Thanks to Doctor...\n",
      "Number of medicines consumed is 15...\n"
     ]
    }
   ],
   "source": [
    "# nested Looping\n",
    "print (\"Visit Doctor...\")   # 1 time\n",
    "medicount = 0\n",
    "for day in range(1, 6):\n",
    "    print (\"Good Morning...\")   # 5 times\n",
    "    for medi in range(1, 4):\n",
    "        print (f\"Day Number - {day} and Medicine Number - {medi}...\")   # 15 times\n",
    "        medicount = medicount + 1\n",
    "    print (\"Good Night...\")   # 5 times\n",
    "    print (\"-----------------------------------------------------------\")   # 5 times\n",
    "print (\"Thanks to Doctor...\")   # 1 time\n",
    "print (f\"Number of medicines consumed is {medicount}...\" )"
   ]
  },
  {
   "cell_type": "code",
   "execution_count": null,
   "id": "a86e5d82-9c45-4787-acc4-388fa27c05b7",
   "metadata": {},
   "outputs": [],
   "source": [
    "Pattern - 1\n",
    "-----------\n",
    "n = 6 (User Input)\n",
    "               i   .   *\n",
    "             -------------\n",
    ".....*         1   5   1\n",
    "....***        2   4   3  . => (n - i)\n",
    "...*****       3   3   5\n",
    "..*******      4   2   7  * => (2 * i - 1)\n",
    ".*********     5   1   9\n",
    "***********    6   0  11\n",
    "             -------------\n",
    "             Tracing Table"
   ]
  },
  {
   "cell_type": "code",
   "execution_count": 73,
   "id": "2d0d871b-2238-4ee6-9aa9-e361fa98b270",
   "metadata": {},
   "outputs": [
    {
     "name": "stdin",
     "output_type": "stream",
     "text": [
      "Please enter the number of layers:  6\n"
     ]
    },
    {
     "name": "stdout",
     "output_type": "stream",
     "text": [
      ".....*\n",
      "....***\n",
      "...*****\n",
      "..*******\n",
      ".*********\n",
      "***********\n",
      "End of the program...\n"
     ]
    }
   ],
   "source": [
    "n = int(input(\"Please enter the number of layers: \"))\n",
    "for i in range(1, n + 1):\n",
    "    print (\".\" * (n - i) + \"*\" * (2 * i - 1))\n",
    "print (\"End of the program...\")"
   ]
  },
  {
   "cell_type": "code",
   "execution_count": null,
   "id": "ad49702d-3fe2-4521-939c-57e342caf9f2",
   "metadata": {},
   "outputs": [],
   "source": [
    "Pattern - 2\n",
    "-----------\n",
    "n = 6 (User Input)\n",
    "               i   .   *\n",
    "             -------------\n",
    "***********    1   0  11\n",
    ".*********     2   1   9  . => (i - 1)\n",
    "..*******      3   2   7\n",
    "...*****       4   3   5  * => (2 * (n - i) + 1)\n",
    "....***        5   4   3\n",
    ".....*         6   5   1\n",
    "             -------------\n",
    "             Tracing Table"
   ]
  },
  {
   "cell_type": "code",
   "execution_count": 80,
   "id": "b9a27f62-98c1-4555-bf4d-364aef8900fd",
   "metadata": {},
   "outputs": [
    {
     "name": "stdin",
     "output_type": "stream",
     "text": [
      "Please enter the number of layers:  8\n"
     ]
    },
    {
     "name": "stdout",
     "output_type": "stream",
     "text": [
      "***************\n",
      ".*************\n",
      "..***********\n",
      "...*********\n",
      "....*******\n",
      ".....*****\n",
      "......***\n",
      ".......*\n",
      "End of the program...\n"
     ]
    }
   ],
   "source": [
    "n = int(input(\"Please enter the number of layers: \"))\n",
    "for i in range(1, n + 1):\n",
    "    print (\".\" * (i - 1) + \"*\" * (2 * (n - i) + 1))\n",
    "print (\"End of the program...\")"
   ]
  },
  {
   "cell_type": "code",
   "execution_count": null,
   "id": "b808926d-8336-4aed-992c-86be5138d59c",
   "metadata": {},
   "outputs": [],
   "source": [
    "Pattern - 3\n",
    "-----------\n",
    "n = 11 (Only ODD User Input)  m = (n + 1) // 2 = 6\n",
    "               i   .   *\n",
    "             -------------\n",
    ".....*         1   5   1       (i, n, m)\n",
    "....***        2   4   3  . => (m - i)\n",
    "...*****       3   3   5\n",
    "..*******      4   2   7  * => (2 * i - 1)\n",
    ".*********     5   1   9\n",
    "***********  __6___0__11__\n",
    ".*********     7   1   9\n",
    "..*******      8   2   7  . => (i - m)\n",
    "...*****       9   3   5\n",
    "....***       10   4   3  * => (2 * (n - i) + 1)\n",
    ".....*        11   5   1\n",
    "             -------------\n",
    "             Tracing Table"
   ]
  },
  {
   "cell_type": "code",
   "execution_count": 83,
   "id": "3b970007-eced-4b90-acb4-47db41dd49f1",
   "metadata": {},
   "outputs": [
    {
     "name": "stdin",
     "output_type": "stream",
     "text": [
      "Please enter ODD number of layers:  11\n"
     ]
    },
    {
     "name": "stdout",
     "output_type": "stream",
     "text": [
      ".....*\n",
      "....***\n",
      "...*****\n",
      "..*******\n",
      ".*********\n",
      "***********\n",
      ".*********\n",
      "..*******\n",
      "...*****\n",
      "....***\n",
      ".....*\n",
      "End of the program...\n"
     ]
    }
   ],
   "source": [
    "n = int(input(\"Please enter ODD number of layers: \"))\n",
    "m = (n + 1) // 2\n",
    "for i in range(1, n + 1):\n",
    "    if (i > m): b = (i - m); s = (2 * (n - i) + 1)\n",
    "    else: b = (m - i); s = (2 * i - 1)\n",
    "    print (\".\" * b + \"*\" * s)\n",
    "print (\"End of the program...\")"
   ]
  },
  {
   "cell_type": "code",
   "execution_count": null,
   "id": "646d2d21-172d-48ae-9020-ad5e1bfd31d7",
   "metadata": {},
   "outputs": [],
   "source": [
    "Pattern - 4\n",
    "-----------\n",
    "n = 11 (Only ODD User Input)  m = (n + 1) // 2 = 6\n",
    "               i   .   *\n",
    "             -------------\n",
    "***********    1   0  11       (i, n, m)\n",
    ".*********     2   1   9  . => (i - 1)\n",
    "..*******      3   2   7\n",
    "...*****       4   3   5  * => (2 * (m - i) + 1)\n",
    "....***        5   4   3\n",
    ".....*       __6___5___1__\n",
    "....***        7   4   3\n",
    "...*****       8   3   5  . => (n - i)\n",
    "..*******      9   2   7\n",
    ".*********    10   1   9  * => (2 * (i - m) + 1)\n",
    "***********   11   0  11\n",
    "             -------------\n",
    "             Tracing Table"
   ]
  },
  {
   "cell_type": "code",
   "execution_count": 87,
   "id": "108a9eb0-9832-4ff7-9b8d-6cb569fd7aa6",
   "metadata": {},
   "outputs": [
    {
     "name": "stdin",
     "output_type": "stream",
     "text": [
      "Please enter ODD number of layers:  11\n"
     ]
    },
    {
     "name": "stdout",
     "output_type": "stream",
     "text": [
      "***********\n",
      ".*********\n",
      "..*******\n",
      "...*****\n",
      "....***\n",
      ".....*\n",
      "....***\n",
      "...*****\n",
      "..*******\n",
      ".*********\n",
      "***********\n",
      "End of the program...\n"
     ]
    }
   ],
   "source": [
    "n = int(input(\"Please enter ODD number of layers: \"))\n",
    "m = (n + 1) // 2\n",
    "for i in range(1, n + 1):\n",
    "    if (i > m): b = (n - i); s = (2 * (i - m) + 1)\n",
    "    else: b = (i - 1); s = (2 * (m - i) + 1)\n",
    "    print (\".\" * b + \"*\" * s)\n",
    "print (\"End of the program...\")"
   ]
  },
  {
   "cell_type": "code",
   "execution_count": 89,
   "id": "83bb59f7-5ef4-4068-bb8d-db4243f6ff7d",
   "metadata": {},
   "outputs": [
    {
     "name": "stdout",
     "output_type": "stream",
     "text": [
      "Executing for i = 0\n",
      "Executing for i = 1\n",
      "Executing for i = 2\n",
      "Executing for i = 3\n",
      "Executing for i = 4\n",
      "Executing for i = 5\n",
      "Executing for i = 6\n",
      "Executing for i = 7\n",
      "ELSE Block is executing...\n",
      "Had a smooth execution...\n",
      "End of the program...\n"
     ]
    }
   ],
   "source": [
    "for i in range(8):\n",
    "    print (f\"Executing for i = {i}\")\n",
    "else:\n",
    "    print (\"ELSE Block is executing...\")\n",
    "    print (\"Had a smooth execution...\")\n",
    "print (\"End of the program...\")"
   ]
  },
  {
   "cell_type": "code",
   "execution_count": 94,
   "id": "f2dfac2a-bb4d-4d9c-9645-7894d1528232",
   "metadata": {},
   "outputs": [
    {
     "name": "stdout",
     "output_type": "stream",
     "text": [
      "Executing for i = 0\n",
      "Executing for i = 1\n",
      "Executing for i = 2\n",
      "Executing for i = 3\n",
      "Executing for i = 4\n",
      "Executing for i = 5\n",
      "Executing BREAK statement...\n",
      "End of the program...\n"
     ]
    }
   ],
   "source": [
    "# break statement\n",
    "for i in range(8):\n",
    "    print (f\"Executing for i = {i}\")\n",
    "    if (i == 5):\n",
    "        print (\"Executing BREAK statement...\")\n",
    "        break\n",
    "else:\n",
    "    print (\"ELSE Block is executing...\")\n",
    "    print (\"Had a smooth execution...\")\n",
    "print (\"End of the program...\")"
   ]
  },
  {
   "cell_type": "code",
   "execution_count": 96,
   "id": "79fad6b7-b49c-4f46-9d16-7b4e25d920e7",
   "metadata": {},
   "outputs": [
    {
     "name": "stdin",
     "output_type": "stream",
     "text": [
      "Please enter one integer number:  101\n"
     ]
    },
    {
     "name": "stdout",
     "output_type": "stream",
     "text": [
      "So 101 is a PRIME Number...\n",
      "End of the program...\n"
     ]
    }
   ],
   "source": [
    "# checking whether one user given number is PRIME or not\n",
    "num = int(input(\"Please enter one integer number: \"))\n",
    "for i in range(2, num):\n",
    "    if (num % i == 0):\n",
    "        print (f\"So {num} is NOT a PRIME Number...\")\n",
    "        break\n",
    "else:\n",
    "    print (f\"So {num} is a PRIME Number...\")\n",
    "print (\"End of the program...\")"
   ]
  },
  {
   "cell_type": "code",
   "execution_count": 98,
   "id": "e73bcba3-914e-400d-a35e-1971ba557d29",
   "metadata": {},
   "outputs": [
    {
     "name": "stdin",
     "output_type": "stream",
     "text": [
      "Please enter one integer number:  12\n"
     ]
    },
    {
     "name": "stdout",
     "output_type": "stream",
     "text": [
      "So 12 is an EVEN Number...\n",
      "End of the program...\n"
     ]
    }
   ],
   "source": [
    "# check whether one user given number is EVEN or not\n",
    "num = int(input(\"Please enter one integer number: \"))\n",
    "if (num % 2 == 1):\n",
    "    pass   # pass is a statement to denote statement place holder\n",
    "else:\n",
    "    print (f\"So {num} is an EVEN Number...\")\n",
    "print (\"End of the program...\")"
   ]
  },
  {
   "cell_type": "code",
   "execution_count": 100,
   "id": "1f3a60fc-71ec-456d-ac3d-251f2347e9ec",
   "metadata": {},
   "outputs": [
    {
     "name": "stdout",
     "output_type": "stream",
     "text": [
      "Executing for i = 0\n",
      "Executing for i = 1\n",
      "Executing for i = 2\n",
      "Continuing...\n",
      "Executing for i = 4\n",
      "Continuing...\n",
      "Executing for i = 6\n",
      "Executing for i = 7\n",
      "ELSE Block is executing...\n",
      "Had a smooth execution...\n",
      "End of the program...\n"
     ]
    }
   ],
   "source": [
    "# continue statement\n",
    "for i in range(8):\n",
    "    if (i == 3 or i == 5):\n",
    "        print (\"Continuing...\")\n",
    "        continue\n",
    "    print (f\"Executing for i = {i}\")\n",
    "else:\n",
    "    print (\"ELSE Block is executing...\")\n",
    "    print (\"Had a smooth execution...\")\n",
    "print (\"End of the program...\")"
   ]
  },
  {
   "cell_type": "code",
   "execution_count": 101,
   "id": "a8beac01-e57e-4ec1-b429-8b83d8a9137b",
   "metadata": {},
   "outputs": [
    {
     "name": "stdout",
     "output_type": "stream",
     "text": [
      "Executing for i = 1...\n",
      "Executing for i = 2...\n",
      "Executing for i = 3...\n",
      "Executing for i = 4...\n",
      "Executing for i = 5...\n",
      "Executing for i = 6...\n",
      "Executing the ELSE Block...\n",
      "End of the program...\n"
     ]
    }
   ],
   "source": [
    "i = 1\n",
    "while (i <= 6):\n",
    "    print (f\"Executing for i = {i}...\")\n",
    "    # i = i + 1\n",
    "    i += 1\n",
    "else:\n",
    "    print (\"Executing the ELSE Block...\")\n",
    "print (\"End of the program...\")"
   ]
  },
  {
   "cell_type": "code",
   "execution_count": null,
   "id": "4236192f-5fd9-41cb-9a47-36e333d401ab",
   "metadata": {},
   "outputs": [],
   "source": [
    "# Home Work\n",
    "Rewrite the medicine and doctor code using nested while-loop blocks"
   ]
  },
  {
   "cell_type": "markdown",
   "id": "9c45f581-4323-4638-9845-c30eaaf29bd9",
   "metadata": {},
   "source": [
    "### ASCII Codes (American Standard Code for Information Interchange)"
   ]
  },
  {
   "cell_type": "code",
   "execution_count": null,
   "id": "232c399e-92ee-4c9e-b287-7f20217c7c61",
   "metadata": {},
   "outputs": [],
   "source": [
    "ASCII Code is 8-bit code, will have 2^8 = 256 combinations, values ranging from 0 to 255\n",
    "ASCII Code can be divided in two categories:\n",
    "    1. Normal ASCII Codes (0 to 127), printable characters\n",
    "    2. Extended ASCII Codes (128 to 255), non-printable characters\n",
    "ASCII Codes to remember -\n",
    "A -> 65  a -> 97    0 -> 48    Esc -> 27\n",
    "B -> 66  b -> 98    1 -> 49    Back Space -> 9\n",
    "...      ...        ...        Tab -> 8\n",
    "Z -> 90  z -> 122   9 -> 57    Space Bar or Blank Space -> 32\n",
    "                               Enter -> 13"
   ]
  },
  {
   "cell_type": "code",
   "execution_count": 105,
   "id": "dc86b1a1-970e-4bbc-bc32-202c536fa37f",
   "metadata": {},
   "outputs": [
    {
     "name": "stdout",
     "output_type": "stream",
     "text": [
      "65 90 97 122\n",
      "A Z a z\n"
     ]
    }
   ],
   "source": [
    "print (ord('A'), ord('Z'), ord('a'), ord('z'))\n",
    "# print (ord('Asansol'))   - Error\n",
    "print (chr(65), chr(90), chr(97), chr(122))"
   ]
  },
  {
   "cell_type": "code",
   "execution_count": 108,
   "id": "da2e16a1-086f-4fcd-8b52-42f03042bd0a",
   "metadata": {},
   "outputs": [
    {
     "name": "stdout",
     "output_type": "stream",
     "text": [
      "A a\n",
      "a A\n"
     ]
    }
   ],
   "source": [
    "mychar = \"A\"\n",
    "print (mychar, chr(ord(mychar) + 32))\n",
    "mychar = \"a\"\n",
    "print (mychar, chr(ord(mychar) - 32))"
   ]
  },
  {
   "cell_type": "markdown",
   "id": "27e127cb-17ba-447d-81ee-6fe184fca5ad",
   "metadata": {},
   "source": [
    "### Variable Types and IDs"
   ]
  },
  {
   "cell_type": "code",
   "execution_count": 3,
   "id": "e58c392a-85c0-45a2-9dd2-72efe3d9a485",
   "metadata": {},
   "outputs": [
    {
     "name": "stdout",
     "output_type": "stream",
     "text": [
      "100 <class 'int'> 2596114533712\n",
      "AEC <class 'str'> 2596200145136\n",
      "True <class 'bool'> 140722788124880\n",
      "A <class 'str'> 2596122384624\n",
      "100.45 <class 'float'> 2596196137520\n"
     ]
    }
   ],
   "source": [
    "var1 = 100\n",
    "print (var1, type(var1), id(var1))\n",
    "var1 = \"AEC\"\n",
    "print (var1, type(var1), id(var1))\n",
    "var1 = True\n",
    "print (var1, type(var1), id(var1))\n",
    "var1 = \"A\"\n",
    "print (var1, type(var1), id(var1))\n",
    "var1 = 100.45\n",
    "print (var1, type(var1), id(var1))"
   ]
  },
  {
   "cell_type": "code",
   "execution_count": 5,
   "id": "f2c5b9d0-5095-4d55-86b8-377bce41f2b5",
   "metadata": {},
   "outputs": [
    {
     "name": "stdout",
     "output_type": "stream",
     "text": [
      "100 <class 'int'> 2596114533712\n",
      "100 <class 'int'> 2596114533712\n",
      "100 <class 'int'> 2596114533712\n",
      "\n",
      "100 <class 'int'> 2596114533712\n",
      "200 <class 'int'> 2596114536912\n",
      "100 <class 'int'> 2596114533712\n"
     ]
    }
   ],
   "source": [
    "var1 = 100\n",
    "var2 = 100\n",
    "var3 = var1\n",
    "print (var1, type(var1), id(var1))\n",
    "print (var2, type(var2), id(var2))\n",
    "print (var3, type(var3), id(var3))\n",
    "var2 = 200\n",
    "print ()\n",
    "print (var1, type(var1), id(var1))\n",
    "print (var2, type(var2), id(var2))\n",
    "print (var3, type(var3), id(var3))\n"
   ]
  },
  {
   "cell_type": "code",
   "execution_count": 15,
   "id": "b9b958ac-95c4-47b1-9325-71de19f6dba5",
   "metadata": {},
   "outputs": [
    {
     "name": "stdout",
     "output_type": "stream",
     "text": [
      "256 <class 'int'> 2596114538704\n",
      "256 <class 'int'> 2596114538704\n",
      "\n",
      "257 <class 'int'> 2596200053232\n",
      "257 <class 'int'> 2596200053168\n"
     ]
    }
   ],
   "source": [
    "var1 = 256\n",
    "var2 = 256\n",
    "print (var1, type(var1), id(var1))\n",
    "print (var2, type(var2), id(var2))\n",
    "print ()\n",
    "var1 = 257\n",
    "var2 = 257\n",
    "print (var1, type(var1), id(var1))\n",
    "print (var2, type(var2), id(var2))"
   ]
  },
  {
   "cell_type": "code",
   "execution_count": 16,
   "id": "a5878ac5-bdd9-4445-bdda-37199c301064",
   "metadata": {},
   "outputs": [
    {
     "name": "stdout",
     "output_type": "stream",
     "text": [
      "-5 <class 'int'> 2596114530352\n",
      "-5 <class 'int'> 2596114530352\n",
      "\n",
      "-6 <class 'int'> 2596200053232\n",
      "-6 <class 'int'> 2596200050256\n"
     ]
    }
   ],
   "source": [
    "var1 = -5\n",
    "var2 = -5\n",
    "print (var1, type(var1), id(var1))\n",
    "print (var2, type(var2), id(var2))\n",
    "print ()\n",
    "var1 = -6\n",
    "var2 = -6\n",
    "print (var1, type(var1), id(var1))\n",
    "print (var2, type(var2), id(var2))"
   ]
  },
  {
   "cell_type": "markdown",
   "id": "6c3cfce2-28d3-4f96-925c-fdaaaa3d59d6",
   "metadata": {},
   "source": [
    "### Inbuilt Collections"
   ]
  },
  {
   "cell_type": "code",
   "execution_count": 18,
   "id": "2e721528-ff2f-4395-9184-a075035a88d5",
   "metadata": {},
   "outputs": [
    {
     "name": "stdout",
     "output_type": "stream",
     "text": [
      "[100, 34.5, 'AEC', True, 'Asansol'] 5 <class 'list'> 2596200884672\n",
      "(100, 34.5, 'AEC', True, 'Asansol') 5 <class 'tuple'> 2596200816752\n",
      "{'mango': 200, 'banana': 300, 'coconut': 450} 3 <class 'dict'> 2596200836928\n",
      "{'Developer', 100, 'Pune', 'Atanu'} 4 <class 'set'> 2596199313280\n",
      "frozenset({'Developer', 100, 'Pune', 'Atanu'}) 4 <class 'frozenset'> 2596199311936\n"
     ]
    }
   ],
   "source": [
    "var1 = [100, 34.5, \"AEC\", True, \"Asansol\"]  # list\n",
    "print (var1, len(var1), type(var1), id(var1))\n",
    "var1 = (100, 34.5, \"AEC\", True, \"Asansol\")  # tuple\n",
    "print (var1, len(var1), type(var1), id(var1))\n",
    "var1 = {\"mango\":200, \"banana\":300, \"coconut\":450}  # dictionary\n",
    "print (var1, len(var1), type(var1), id(var1))\n",
    "var1 = {100, \"Atanu\", \"Developer\", \"Pune\", \"Atanu\", \"Developer\", \"Pune\", 100, 100}  # set\n",
    "print (var1, len(var1), type(var1), id(var1))\n",
    "var1 = frozenset({100, \"Atanu\", \"Developer\", \"Pune\", \"Atanu\", \"Developer\", \"Pune\", 100, 100})  # frozen set\n",
    "print (var1, len(var1), type(var1), id(var1))"
   ]
  },
  {
   "cell_type": "code",
   "execution_count": 19,
   "id": "0bc00079-1aeb-4e4e-9695-9622fb679392",
   "metadata": {},
   "outputs": [
    {
     "name": "stdout",
     "output_type": "stream",
     "text": [
      "[] 0 <class 'list'> 2596200799936\n",
      "() 0 <class 'tuple'> 2596114546800\n",
      "{} 0 <class 'dict'> 2596220595328\n",
      "set() 0 <class 'set'> 2596219891584\n",
      "frozenset() 0 <class 'frozenset'> 2596199313504\n"
     ]
    }
   ],
   "source": [
    "# empty collections\n",
    "var1 = []  # list\n",
    "print (var1, len(var1), type(var1), id(var1))\n",
    "var1 = ()  # tuple\n",
    "print (var1, len(var1), type(var1), id(var1))\n",
    "var1 = {}  # dictionary\n",
    "print (var1, len(var1), type(var1), id(var1))\n",
    "var1 = set()  # set\n",
    "print (var1, len(var1), type(var1), id(var1))\n",
    "var1 = frozenset()  # frozen set\n",
    "print (var1, len(var1), type(var1), id(var1))"
   ]
  },
  {
   "cell_type": "code",
   "execution_count": 23,
   "id": "19f847f9-3370-4e84-9be1-90292f3acb94",
   "metadata": {},
   "outputs": [
    {
     "name": "stdout",
     "output_type": "stream",
     "text": [
      "10 <class 'int'> 2596114530832\n",
      "(10,) 1 <class 'tuple'> 2596222080224\n"
     ]
    }
   ],
   "source": [
    "var1 = (10)\n",
    "print (var1, type(var1), id(var1))\n",
    "var1 = (10,)   # singleton representation of a tuple\n",
    "print (var1, len(var1), type(var1), id(var1))"
   ]
  },
  {
   "cell_type": "code",
   "execution_count": null,
   "id": "496f14f2-3d2c-4d38-a51d-52303ca4f59c",
   "metadata": {},
   "outputs": [],
   "source": []
  },
  {
   "cell_type": "code",
   "execution_count": null,
   "id": "d1fc5eda-3e13-4938-9cbe-1f35b1fe270d",
   "metadata": {},
   "outputs": [],
   "source": []
  },
  {
   "cell_type": "code",
   "execution_count": null,
   "id": "d45b037a-bf5f-4c72-ab8b-6947652242e2",
   "metadata": {},
   "outputs": [],
   "source": []
  },
  {
   "cell_type": "code",
   "execution_count": null,
   "id": "0f720f1e-3557-4180-b812-25e744d70400",
   "metadata": {},
   "outputs": [],
   "source": []
  },
  {
   "cell_type": "code",
   "execution_count": null,
   "id": "436bad08-a52a-4141-beb1-9ad815b89e25",
   "metadata": {},
   "outputs": [],
   "source": []
  },
  {
   "cell_type": "code",
   "execution_count": null,
   "id": "0b08ca3a-2d8e-4e08-8769-e43436c7005e",
   "metadata": {},
   "outputs": [],
   "source": []
  },
  {
   "cell_type": "code",
   "execution_count": null,
   "id": "57455b90-1f94-41e3-95f1-43fe1cd77185",
   "metadata": {},
   "outputs": [],
   "source": []
  },
  {
   "cell_type": "code",
   "execution_count": null,
   "id": "00866d36-ae1e-4796-b20c-f320e8acee53",
   "metadata": {},
   "outputs": [],
   "source": []
  },
  {
   "cell_type": "code",
   "execution_count": null,
   "id": "51a5e9a1-94aa-49eb-82dd-ff630cdee397",
   "metadata": {},
   "outputs": [],
   "source": []
  },
  {
   "cell_type": "code",
   "execution_count": null,
   "id": "0bae3664-bc74-45e1-8a23-e9a8094af2d4",
   "metadata": {},
   "outputs": [],
   "source": []
  },
  {
   "cell_type": "code",
   "execution_count": null,
   "id": "c16bcbbf-11bd-450b-8edd-571d267ed6fb",
   "metadata": {},
   "outputs": [],
   "source": []
  },
  {
   "cell_type": "code",
   "execution_count": null,
   "id": "d1af7b2c-411e-49d3-9f35-4849225f1ebd",
   "metadata": {},
   "outputs": [],
   "source": []
  },
  {
   "cell_type": "code",
   "execution_count": null,
   "id": "1a45dcad-771b-4824-9ca4-279e4773cf90",
   "metadata": {},
   "outputs": [],
   "source": []
  },
  {
   "cell_type": "code",
   "execution_count": null,
   "id": "7696cf14-cc23-40ad-8fc6-bcc9b8e1895e",
   "metadata": {},
   "outputs": [],
   "source": []
  },
  {
   "cell_type": "code",
   "execution_count": null,
   "id": "265f450b-b161-4cd0-a6a2-b40b5708fd28",
   "metadata": {},
   "outputs": [],
   "source": []
  },
  {
   "cell_type": "code",
   "execution_count": null,
   "id": "a097d870-3a36-4aef-a759-8441c24d3a9f",
   "metadata": {},
   "outputs": [],
   "source": []
  },
  {
   "cell_type": "code",
   "execution_count": null,
   "id": "4d117f27-0929-47cd-9d81-80d9ca0ac2b6",
   "metadata": {},
   "outputs": [],
   "source": []
  },
  {
   "cell_type": "code",
   "execution_count": null,
   "id": "2f4bc896-fd92-4882-bfa5-14fb53a496ed",
   "metadata": {},
   "outputs": [],
   "source": []
  },
  {
   "cell_type": "code",
   "execution_count": null,
   "id": "56c86913-e40f-45b1-84ba-6b4181f71eda",
   "metadata": {},
   "outputs": [],
   "source": []
  },
  {
   "cell_type": "code",
   "execution_count": null,
   "id": "f1ff2d3c-8084-4f78-87b9-6019ac71bea2",
   "metadata": {},
   "outputs": [],
   "source": []
  },
  {
   "cell_type": "code",
   "execution_count": null,
   "id": "1c2849db-e553-4768-8463-e0064376843a",
   "metadata": {},
   "outputs": [],
   "source": []
  },
  {
   "cell_type": "code",
   "execution_count": null,
   "id": "749d61ea-881e-45eb-948d-54a68301250f",
   "metadata": {},
   "outputs": [],
   "source": []
  },
  {
   "cell_type": "code",
   "execution_count": null,
   "id": "c8a1b1ac-a149-488b-a600-b369dd12cbfb",
   "metadata": {},
   "outputs": [],
   "source": []
  },
  {
   "cell_type": "code",
   "execution_count": null,
   "id": "26447521-c208-46fb-9c09-8b3e582230f2",
   "metadata": {},
   "outputs": [],
   "source": []
  },
  {
   "cell_type": "code",
   "execution_count": null,
   "id": "b62e333b-3f44-47e8-a1c7-9eb101a57775",
   "metadata": {},
   "outputs": [],
   "source": []
  },
  {
   "cell_type": "code",
   "execution_count": null,
   "id": "2f1f02ef-5f4f-46c8-b974-75ba2a11a7d3",
   "metadata": {},
   "outputs": [],
   "source": []
  },
  {
   "cell_type": "code",
   "execution_count": null,
   "id": "55720e0d-d896-4689-b278-5d20a619ec9e",
   "metadata": {},
   "outputs": [],
   "source": []
  }
 ],
 "metadata": {
  "kernelspec": {
   "display_name": "Python 3 (ipykernel)",
   "language": "python",
   "name": "python3"
  },
  "language_info": {
   "codemirror_mode": {
    "name": "ipython",
    "version": 3
   },
   "file_extension": ".py",
   "mimetype": "text/x-python",
   "name": "python",
   "nbconvert_exporter": "python",
   "pygments_lexer": "ipython3",
   "version": "3.10.9"
  }
 },
 "nbformat": 4,
 "nbformat_minor": 5
}
