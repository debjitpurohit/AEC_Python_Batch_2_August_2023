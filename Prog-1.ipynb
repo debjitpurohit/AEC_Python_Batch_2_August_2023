{
 "cells": [
  {
   "cell_type": "markdown",
   "id": "d457251d-534a-4934-91a9-681161782e86",
   "metadata": {},
   "source": [
    "## **Introduction to Python Programming**"
   ]
  },
  {
   "cell_type": "code",
   "execution_count": null,
   "id": "38013e14-ef9e-4ab0-9800-4d4475cfec34",
   "metadata": {},
   "outputs": [],
   "source": [
    "# This is a comment line\n",
    "# this is another comment line\n",
    "# this is the last comment line"
   ]
  },
  {
   "cell_type": "markdown",
   "id": "f6e22fef-465a-4114-96eb-e85bee1f1f55",
   "metadata": {},
   "source": [
    "### Python Inputs and outputs"
   ]
  },
  {
   "cell_type": "code",
   "execution_count": 2,
   "id": "8aa67043-3e99-44a4-8c8d-d918de6de5e3",
   "metadata": {},
   "outputs": [
    {
     "name": "stdin",
     "output_type": "stream",
     "text": [
      "Please enter the first number:  100\n",
      "Please enter the second number:  400\n"
     ]
    },
    {
     "name": "stdout",
     "output_type": "stream",
     "text": [
      "100 <class 'str'> 400 <class 'str'>\n",
      "So the result is 100400\n",
      "End of the program....\n"
     ]
    }
   ],
   "source": [
    "num1 = input(\"Please enter the first number: \")\n",
    "num2 = input(\"Please enter the second number: \")\n",
    "print (num1, type(num1), num2, type(num2))\n",
    "result = num1 + num2\n",
    "print (\"So the result is\", result)\n",
    "print (\"End of the program....\")"
   ]
  },
  {
   "cell_type": "code",
   "execution_count": 4,
   "id": "f2db90e1-d0c5-4e01-8bf4-72b3c885a274",
   "metadata": {},
   "outputs": [
    {
     "name": "stdin",
     "output_type": "stream",
     "text": [
      "Please enter the first number:  100\n",
      "Please enter the second number:  400\n"
     ]
    },
    {
     "name": "stdout",
     "output_type": "stream",
     "text": [
      "100 <class 'int'> 400 <class 'int'>\n",
      "So the result is 500\n",
      "End of the program....\n"
     ]
    }
   ],
   "source": [
    "num1 = int(input(\"Please enter the first number: \"))\n",
    "num2 = int(input(\"Please enter the second number: \"))\n",
    "print (num1, type(num1), num2, type(num2))\n",
    "result = num1 + num2\n",
    "print (\"So the result is\", result)\n",
    "print (\"End of the program....\")"
   ]
  },
  {
   "cell_type": "code",
   "execution_count": 21,
   "id": "c5b1a7bf-bbbe-4d83-89cb-357d1fce41f3",
   "metadata": {},
   "outputs": [
    {
     "name": "stdout",
     "output_type": "stream",
     "text": [
      "So 100 + 400 = 500\n",
      "So 100 + 400 = 500\n",
      "So 100 + 400 = 500\n",
      "So 100 + 400 = 500\n",
      "So 100 + 400 = 500\n",
      "So 100 + 400 = 500\n",
      "So 100 + 400 = 500\n",
      "So 100 + 400.000000 = 500\n",
      "So 100 +   400.00 = 500\n",
      "So 100 + 400 = 500\n"
     ]
    }
   ],
   "source": [
    "print (\"So\", num1, \"+\", num2, \"=\", result)\n",
    "print (\"So \" + str(num1) + \" + \" + str(num2) + \" = \" + str(result))\n",
    "print (\"So {} + {} = {}\".format(num1, num2, result))   # {} is variable place-holder\n",
    "print (\"So {0} + {1} = {2}\".format(num1, num2, result)) # {} numbered place-holder\n",
    "print (\"So {2} + {1} = {0}\".format(result, num2, num1))\n",
    "print (\"So {fnum} + {snum} = {tot}\".format(fnum=num1, snum=num2, tot=result)) # labeled placeholder\n",
    "print (\"So %d + %d = %d\"%(num1, num2, result))\n",
    "print (\"So %d + %f = %d\"%(num1, num2, result))\n",
    "print (\"So %d + %8.2f = %d\"%(num1, num2, result))\n",
    "print (f\"So {num1} + {num2} = {result}\")  # f stands for smart formatting available from Python version 2.7"
   ]
  },
  {
   "cell_type": "markdown",
   "id": "f0a19143-5df3-4baf-9128-987ff923eae7",
   "metadata": {},
   "source": [
    "### Python Operators"
   ]
  },
  {
   "cell_type": "code",
   "execution_count": 23,
   "id": "e1f93a80-78ca-4785-a62d-aabbc729ee63",
   "metadata": {},
   "outputs": [
    {
     "name": "stdout",
     "output_type": "stream",
     "text": [
      "140\n",
      "60\n",
      "4000\n",
      "2.5\n",
      "2\n",
      "20\n",
      "100000000\n"
     ]
    }
   ],
   "source": [
    "# arithmetic operators\n",
    "print (100 + 40)   # addition\n",
    "print (100 - 40)   # subtraction\n",
    "print (100 * 40)   # multiplication\n",
    "print (100 / 40)   # float division\n",
    "print (100 // 40)  # integer division\n",
    "print (100 % 40)   # modulus, remainder of the division\n",
    "print (100 ** 4)   # exponentiation, to the power of"
   ]
  },
  {
   "cell_type": "code",
   "execution_count": 25,
   "id": "81c893de-66f0-46aa-a121-1782b2be5c35",
   "metadata": {},
   "outputs": [
    {
     "name": "stdout",
     "output_type": "stream",
     "text": [
      "True True True True True True\n"
     ]
    }
   ],
   "source": [
    "# relational operators\n",
    "print (100 > 40, 100 >= 40, 40 < 100, 40 <= 100, 40 != 100, 100 == 100)"
   ]
  },
  {
   "cell_type": "code",
   "execution_count": 27,
   "id": "7820e462-c736-45aa-ba11-903505c61ec4",
   "metadata": {},
   "outputs": [
    {
     "name": "stdout",
     "output_type": "stream",
     "text": [
      "False True True True\n",
      "False False False True\n",
      "False True\n"
     ]
    }
   ],
   "source": [
    "# logical operator\n",
    "print (False or False, False or True, True or False, True or True)\n",
    "print (False and False, False and True, True and False, True and True)\n",
    "print (not True, not False)"
   ]
  },
  {
   "cell_type": "markdown",
   "id": "ec4d4a17-adb8-423f-afaa-8d87ed5ee022",
   "metadata": {},
   "source": [
    "### Conditional Statements"
   ]
  },
  {
   "cell_type": "code",
   "execution_count": 34,
   "id": "f9c2b0c9-1446-4417-907c-c64f43a8e2d4",
   "metadata": {},
   "outputs": [
    {
     "name": "stdin",
     "output_type": "stream",
     "text": [
      "Please enter the first number:  100\n",
      "Please enter the second number:  200\n",
      "Please enter the third number:  300\n"
     ]
    },
    {
     "name": "stdout",
     "output_type": "stream",
     "text": [
      "So the Third number if the maximum number...\n",
      "So the maximum number is 300...\n",
      "End of the program...\n"
     ]
    }
   ],
   "source": [
    "# find out the maximum number out of three user given numbers\n",
    "num1 = int(input(\"Please enter the first number: \"))\n",
    "num2 = int(input(\"Please enter the second number: \"))\n",
    "num3 = int(input(\"Please enter the third number: \"))\n",
    "if (num1 > num2):\n",
    "    if (num1 > num3):\n",
    "        print (\"So the First number is the maximum number...\")\n",
    "        print (f\"So the maximum number is {num1}...\")\n",
    "    else:\n",
    "        print (\"So the Third number is the maximum number...\")\n",
    "        print (f\"So the maximum number is {num3}...\")\n",
    "elif (num2 > num3):\n",
    "    print (\"So the Second number is the maximum number...\")\n",
    "    print (f\"So the maximum number is {num2}...\")\n",
    "else:\n",
    "    print (\"So the Third number if the maximum number...\")\n",
    "    print (f\"So the maximum number is {num3}...\")\n",
    "print (\"End of the program...\")"
   ]
  },
  {
   "cell_type": "code",
   "execution_count": 37,
   "id": "68418aa0-4e92-4be1-970c-b626ea92ad13",
   "metadata": {},
   "outputs": [
    {
     "name": "stdin",
     "output_type": "stream",
     "text": [
      "Please enter the first number:  200\n",
      "Please enter the second number:  100\n",
      "Please enter the third number:  300\n"
     ]
    },
    {
     "name": "stdout",
     "output_type": "stream",
     "text": [
      "So the Third number if the maximum number...\n",
      "So the maximum number is 300...\n",
      "End of the program...\n"
     ]
    }
   ],
   "source": [
    "# find out the maximum number out of three user given numbers\n",
    "num1 = int(input(\"Please enter the first number: \"))\n",
    "num2 = int(input(\"Please enter the second number: \"))\n",
    "num3 = int(input(\"Please enter the third number: \"))\n",
    "if (num1 > num2 and num1 > num3):\n",
    "    print (\"So the First number is the maximum number...\")\n",
    "    print (f\"So the maximum number is {num1}...\")\n",
    "elif (num2 > num3):\n",
    "    print (\"So the Second number is the maximum number...\")\n",
    "    print (f\"So the maximum number is {num2}...\")\n",
    "else:\n",
    "    print (\"So the Third number if the maximum number...\")\n",
    "    print (f\"So the maximum number is {num3}...\")\n",
    "print (\"End of the program...\")"
   ]
  },
  {
   "cell_type": "code",
   "execution_count": null,
   "id": "552920e9-9515-40ef-9293-cb594c75ec51",
   "metadata": {},
   "outputs": [],
   "source": [
    "# find out the second maximum number out of three user given numbers\n",
    "read num1, num2, num3\n",
    "Section-1\n",
    "now compare num1 and num2 and put the maximum of them in max1 and other in max2\n",
    "Section-2\n",
    "Now we shall deal with max1, max2 and num3\n",
    "\n",
    "                            max1          max2\n",
    "                            500           200\n",
    "             num3 =>   800          400          100\n",
    "   Second maximum =>   500          400          200\n",
    "                       max1         num3         max2"
   ]
  },
  {
   "cell_type": "code",
   "execution_count": 40,
   "id": "868278ff-2eca-4bf7-899f-63a887964b69",
   "metadata": {},
   "outputs": [
    {
     "name": "stdin",
     "output_type": "stream",
     "text": [
      "Please enter the first number:  300\n",
      "Please enter the second number:  100\n",
      "Please enter the third number:  200\n"
     ]
    },
    {
     "name": "stdout",
     "output_type": "stream",
     "text": [
      "So the second maximum number is 200...\n",
      "End of the program...\n"
     ]
    }
   ],
   "source": [
    "# find out the second maximum number out of three user given numbers\n",
    "num1 = int(input(\"Please enter the first number: \"))\n",
    "num2 = int(input(\"Please enter the second number: \"))\n",
    "num3 = int(input(\"Please enter the third number: \"))\n",
    "if (num1 > num2): max1 = num1; max2 = num2\n",
    "else: max1 = num2; max2 = num1\n",
    "if (num3 > max1):\n",
    "    print (f\"So the second maximum number is {max1}...\")\n",
    "elif (num3 > max2):\n",
    "    print (f\"So the second maximum number is {num3}...\")\n",
    "else:\n",
    "    print (f\"So the second maximum number is {max2}...\")\n",
    "print (\"End of the program...\")"
   ]
  },
  {
   "cell_type": "markdown",
   "id": "89b23f33-0606-4626-9d9d-f253fad548ee",
   "metadata": {},
   "source": [
    "### Loop Construct"
   ]
  },
  {
   "cell_type": "code",
   "execution_count": 42,
   "id": "4eaf24c2-c5b3-4140-a697-8d669b6b22d0",
   "metadata": {},
   "outputs": [
    {
     "name": "stdout",
     "output_type": "stream",
     "text": [
      "0 Hello\n",
      "1 Hello\n",
      "2 Hello\n",
      "3 Hello\n",
      "4 Hello\n",
      "5 Hello\n",
      "6 Hello\n",
      "7 Hello\n"
     ]
    }
   ],
   "source": [
    "for i in range(8):\n",
    "    print (i, \"Hello\")"
   ]
  },
  {
   "cell_type": "code",
   "execution_count": 45,
   "id": "ffba6386-c845-465d-b0b0-1d78106b99e4",
   "metadata": {},
   "outputs": [
    {
     "name": "stdout",
     "output_type": "stream",
     "text": [
      "Welcome Everyone\n",
      "To All\n"
     ]
    }
   ],
   "source": [
    "print (\"Welcome\", \"Everyone\")\n",
    "print (\"To All\")"
   ]
  },
  {
   "cell_type": "code",
   "execution_count": 49,
   "id": "72337b9c-4537-4b50-bd12-875e8c2ca2df",
   "metadata": {},
   "outputs": [
    {
     "name": "stdout",
     "output_type": "stream",
     "text": [
      "Help on built-in function print in module builtins:\n",
      "\n",
      "print(...)\n",
      "    print(value, ..., sep=' ', end='\\n', file=sys.stdout, flush=False)\n",
      "    \n",
      "    Prints the values to a stream, or to sys.stdout by default.\n",
      "    Optional keyword arguments:\n",
      "    file:  a file-like object (stream); defaults to the current sys.stdout.\n",
      "    sep:   string inserted between values, default a space.\n",
      "    end:   string appended after the last value, default a newline.\n",
      "    flush: whether to forcibly flush the stream.\n",
      "\n"
     ]
    }
   ],
   "source": [
    "help(print)   # ... is called ellipsis operator"
   ]
  },
  {
   "cell_type": "code",
   "execution_count": 53,
   "id": "a8527e98-f9d3-4925-82af-e9d572c2562c",
   "metadata": {},
   "outputs": [
    {
     "name": "stdout",
     "output_type": "stream",
     "text": [
      "Welcome Everyone\n",
      "To All\n",
      "Welcome - Everyone; To All\n",
      "Welcome;;;Everyone\n",
      "To All\n"
     ]
    }
   ],
   "source": [
    "print (\"Welcome\", \"Everyone\")\n",
    "print (\"To All\")\n",
    "print (\"Welcome\", \"Everyone\", sep = \" - \", end = \"; \")\n",
    "print (\"To All\")\n",
    "print (\"Welcome\", \"Everyone\", sep = \";;;\")\n",
    "print (\"To All\")"
   ]
  },
  {
   "cell_type": "code",
   "execution_count": 57,
   "id": "69a30075-57e4-4901-a141-d22974e3049a",
   "metadata": {},
   "outputs": [
    {
     "name": "stdout",
     "output_type": "stream",
     "text": [
      "0 Hello, 1 Hello, 2 Hello, 3 Hello, 4 Hello, 5 Hello, 6 Hello, 7 Hello, \n",
      "0 Welcome, 1 Welcome, 2 Welcome, 3 Welcome, 4 Welcome, 5 Welcome, 6 Welcome, 7 Welcome, \n",
      "0 Bye, 1 Bye, 2 Bye, 3 Bye, 4 Bye, 5 Bye, 6 Bye, 7 Bye, "
     ]
    }
   ],
   "source": [
    "for i in range(8):\n",
    "    print (i, \"Hello\", end = \", \")\n",
    "print ()\n",
    "for i in range(0, 8):\n",
    "    print (i, \"Welcome\", end = \", \")\n",
    "print ()\n",
    "for i in range(0, 8, 1):\n",
    "    print (i, \"Bye\", end = \", \")"
   ]
  },
  {
   "cell_type": "code",
   "execution_count": 60,
   "id": "b393b9b1-f6b4-49b4-9e93-c0682e137b56",
   "metadata": {},
   "outputs": [
    {
     "name": "stdout",
     "output_type": "stream",
     "text": [
      "0 Bye, 2 Bye, 4 Bye, 6 Bye, \n",
      "1 Bye, 3 Bye, 5 Bye, 7 Bye, "
     ]
    }
   ],
   "source": [
    "for i in range(0, 8, 2):\n",
    "    print (i, \"Bye\", end = \", \")\n",
    "print()\n",
    "for i in range(1, 8, 2):\n",
    "    print (i, \"Bye\", end = \", \")"
   ]
  },
  {
   "cell_type": "code",
   "execution_count": 66,
   "id": "066573ce-abd7-4191-8bef-4c66a73495cb",
   "metadata": {},
   "outputs": [
    {
     "name": "stdout",
     "output_type": "stream",
     "text": [
      "Hello Hello Hello Hello Hello \n",
      "Good Day Good Day Good Day Good Day \n",
      "AEC AEC AEC AEC AEC AEC AEC AEC AEC AEC \n"
     ]
    }
   ],
   "source": [
    "print (\"Hello \" * 5)\n",
    "print (\"Good Day \" * 4)\n",
    "print (\"AEC \" * 10)"
   ]
  },
  {
   "cell_type": "code",
   "execution_count": 68,
   "id": "265ceaaf-d32a-4961-acda-226b4c7579a1",
   "metadata": {},
   "outputs": [
    {
     "name": "stdout",
     "output_type": "stream",
     "text": [
      "Visit Doctor...\n",
      "Good Morning...\n",
      "Day Number - 1 and Medicine Number - 1...\n",
      "Day Number - 1 and Medicine Number - 2...\n",
      "Day Number - 1 and Medicine Number - 3...\n",
      "Good Night...\n",
      "-----------------------------------------------------------\n",
      "Good Morning...\n",
      "Day Number - 2 and Medicine Number - 1...\n",
      "Day Number - 2 and Medicine Number - 2...\n",
      "Day Number - 2 and Medicine Number - 3...\n",
      "Good Night...\n",
      "-----------------------------------------------------------\n",
      "Good Morning...\n",
      "Day Number - 3 and Medicine Number - 1...\n",
      "Day Number - 3 and Medicine Number - 2...\n",
      "Day Number - 3 and Medicine Number - 3...\n",
      "Good Night...\n",
      "-----------------------------------------------------------\n",
      "Good Morning...\n",
      "Day Number - 4 and Medicine Number - 1...\n",
      "Day Number - 4 and Medicine Number - 2...\n",
      "Day Number - 4 and Medicine Number - 3...\n",
      "Good Night...\n",
      "-----------------------------------------------------------\n",
      "Good Morning...\n",
      "Day Number - 5 and Medicine Number - 1...\n",
      "Day Number - 5 and Medicine Number - 2...\n",
      "Day Number - 5 and Medicine Number - 3...\n",
      "Good Night...\n",
      "-----------------------------------------------------------\n",
      "Thanks to Doctor...\n"
     ]
    }
   ],
   "source": [
    "# nested Looping\n",
    "print (\"Visit Doctor...\")   # 1 time\n",
    "for day in range(1, 6):\n",
    "    print (\"Good Morning...\")   # 5 times\n",
    "    for medi in range(1, 4):\n",
    "        print (f\"Day Number - {day} and Medicine Number - {medi}...\")   # 15 times\n",
    "    print (\"Good Night...\")   # 5 times\n",
    "    print (\"-----------------------------------------------------------\")   # 5 times\n",
    "print (\"Thanks to Doctor...\")   # 1 time"
   ]
  },
  {
   "cell_type": "code",
   "execution_count": null,
   "id": "a86e5d82-9c45-4787-acc4-388fa27c05b7",
   "metadata": {},
   "outputs": [],
   "source": [
    "Pattern - 1\n",
    "-----------\n",
    "n = 6 (User Input)\n",
    "               i   .   *\n",
    "             -------------\n",
    ".....*         1   5   1\n",
    "....***        2   4   3  . => (n - i)\n",
    "...*****       3   3   5\n",
    "..*******      4   2   7  * => (2 * i - 1)\n",
    ".*********     5   1   9\n",
    "***********    6   0  11\n",
    "             -------------\n",
    "             Tracing Table"
   ]
  },
  {
   "cell_type": "code",
   "execution_count": 73,
   "id": "2d0d871b-2238-4ee6-9aa9-e361fa98b270",
   "metadata": {},
   "outputs": [
    {
     "name": "stdin",
     "output_type": "stream",
     "text": [
      "Please enter the number of layers:  6\n"
     ]
    },
    {
     "name": "stdout",
     "output_type": "stream",
     "text": [
      ".....*\n",
      "....***\n",
      "...*****\n",
      "..*******\n",
      ".*********\n",
      "***********\n",
      "End of the program...\n"
     ]
    }
   ],
   "source": [
    "n = int(input(\"Please enter the number of layers: \"))\n",
    "for i in range(1, n + 1):\n",
    "    print (\".\" * (n - i) + \"*\" * (2 * i - 1))\n",
    "print (\"End of the program...\")"
   ]
  },
  {
   "cell_type": "code",
   "execution_count": null,
   "id": "ad49702d-3fe2-4521-939c-57e342caf9f2",
   "metadata": {},
   "outputs": [],
   "source": [
    "Pattern - 2\n",
    "-----------\n",
    "n = 6 (User Input)\n",
    "               i   .   *\n",
    "             -------------\n",
    "***********    1   0  11\n",
    ".*********     2   1   9  . => (i - 1)\n",
    "..*******      3   2   7\n",
    "...*****       4   3   5  * => (2 * (n - i) + 1)\n",
    "....***        5   4   3\n",
    ".....*         6   5   1\n",
    "             -------------\n",
    "             Tracing Table"
   ]
  },
  {
   "cell_type": "code",
   "execution_count": 80,
   "id": "b9a27f62-98c1-4555-bf4d-364aef8900fd",
   "metadata": {},
   "outputs": [
    {
     "name": "stdin",
     "output_type": "stream",
     "text": [
      "Please enter the number of layers:  8\n"
     ]
    },
    {
     "name": "stdout",
     "output_type": "stream",
     "text": [
      "***************\n",
      ".*************\n",
      "..***********\n",
      "...*********\n",
      "....*******\n",
      ".....*****\n",
      "......***\n",
      ".......*\n",
      "End of the program...\n"
     ]
    }
   ],
   "source": [
    "n = int(input(\"Please enter the number of layers: \"))\n",
    "for i in range(1, n + 1):\n",
    "    print (\".\" * (i - 1) + \"*\" * (2 * (n - i) + 1))\n",
    "print (\"End of the program...\")"
   ]
  },
  {
   "cell_type": "code",
   "execution_count": null,
   "id": "b808926d-8336-4aed-992c-86be5138d59c",
   "metadata": {},
   "outputs": [],
   "source": [
    "Pattern - 3\n",
    "-----------\n",
    "n = 11 (Only ODD User Input)  m = (n + 1) // 2 = 6\n",
    "               i   .   *\n",
    "             -------------\n",
    ".....*         1   5   1       (i, n, m)\n",
    "....***        2   4   3  . => (m - i)\n",
    "...*****       3   3   5\n",
    "..*******      4   2   7  * => (2 * i - 1)\n",
    ".*********     5   1   9\n",
    "***********  __6___0__11__\n",
    ".*********     7   1   9\n",
    "..*******      8   2   7  . => (i - m)\n",
    "...*****       9   3   5\n",
    "....***       10   4   3  * => (2 * (n - i) + 1)\n",
    ".....*        11   5   1\n",
    "             -------------\n",
    "             Tracing Table"
   ]
  },
  {
   "cell_type": "code",
   "execution_count": 83,
   "id": "3b970007-eced-4b90-acb4-47db41dd49f1",
   "metadata": {},
   "outputs": [
    {
     "name": "stdin",
     "output_type": "stream",
     "text": [
      "Please enter ODD number of layers:  11\n"
     ]
    },
    {
     "name": "stdout",
     "output_type": "stream",
     "text": [
      ".....*\n",
      "....***\n",
      "...*****\n",
      "..*******\n",
      ".*********\n",
      "***********\n",
      ".*********\n",
      "..*******\n",
      "...*****\n",
      "....***\n",
      ".....*\n",
      "End of the program...\n"
     ]
    }
   ],
   "source": [
    "n = int(input(\"Please enter ODD number of layers: \"))\n",
    "m = (n + 1) // 2\n",
    "for i in range(1, n + 1):\n",
    "    if (i > m): b = (i - m); s = (2 * (n - i) + 1)\n",
    "    else: b = (m - i); s = (2 * i - 1)\n",
    "    print (\".\" * b + \"*\" * s)\n",
    "print (\"End of the program...\")"
   ]
  },
  {
   "cell_type": "code",
   "execution_count": null,
   "id": "646d2d21-172d-48ae-9020-ad5e1bfd31d7",
   "metadata": {},
   "outputs": [],
   "source": []
  },
  {
   "cell_type": "code",
   "execution_count": null,
   "id": "108a9eb0-9832-4ff7-9b8d-6cb569fd7aa6",
   "metadata": {},
   "outputs": [],
   "source": []
  },
  {
   "cell_type": "code",
   "execution_count": null,
   "id": "83bb59f7-5ef4-4068-bb8d-db4243f6ff7d",
   "metadata": {},
   "outputs": [],
   "source": []
  },
  {
   "cell_type": "code",
   "execution_count": null,
   "id": "f2dfac2a-bb4d-4d9c-9645-7894d1528232",
   "metadata": {},
   "outputs": [],
   "source": []
  },
  {
   "cell_type": "code",
   "execution_count": null,
   "id": "79fad6b7-b49c-4f46-9d16-7b4e25d920e7",
   "metadata": {},
   "outputs": [],
   "source": []
  },
  {
   "cell_type": "code",
   "execution_count": null,
   "id": "e73bcba3-914e-400d-a35e-1971ba557d29",
   "metadata": {},
   "outputs": [],
   "source": []
  },
  {
   "cell_type": "code",
   "execution_count": null,
   "id": "1f3a60fc-71ec-456d-ac3d-251f2347e9ec",
   "metadata": {},
   "outputs": [],
   "source": []
  },
  {
   "cell_type": "code",
   "execution_count": null,
   "id": "a8beac01-e57e-4ec1-b429-8b83d8a9137b",
   "metadata": {},
   "outputs": [],
   "source": []
  }
 ],
 "metadata": {
  "kernelspec": {
   "display_name": "Python 3 (ipykernel)",
   "language": "python",
   "name": "python3"
  },
  "language_info": {
   "codemirror_mode": {
    "name": "ipython",
    "version": 3
   },
   "file_extension": ".py",
   "mimetype": "text/x-python",
   "name": "python",
   "nbconvert_exporter": "python",
   "pygments_lexer": "ipython3",
   "version": "3.10.9"
  }
 },
 "nbformat": 4,
 "nbformat_minor": 5
}
