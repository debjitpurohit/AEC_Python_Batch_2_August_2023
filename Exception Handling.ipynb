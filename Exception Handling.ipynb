{
 "cells": [
  {
   "cell_type": "markdown",
   "id": "e02106d9-0d5b-4f5c-9627-dced38e9db6a",
   "metadata": {},
   "source": [
    "## **Exception Handling**"
   ]
  },
  {
   "cell_type": "code",
   "execution_count": 1,
   "id": "15a716f1-1f7d-42e2-a6ce-e5dddb0c85c7",
   "metadata": {},
   "outputs": [
    {
     "name": "stdin",
     "output_type": "stream",
     "text": [
      "Please enter the first number:  100\n",
      "Please enter the second number:  40\n"
     ]
    },
    {
     "name": "stdout",
     "output_type": "stream",
     "text": [
      "So 100 / 40 = 2.5...\n",
      "End of the program...\n"
     ]
    }
   ],
   "source": [
    "# exception means errorneous condition\n",
    "num1 = int(input(\"Please enter the first number: \"))\n",
    "num2 = int(input(\"Please enter the second number: \"))\n",
    "result = num1 / num2\n",
    "print (f\"So {num1} / {num2} = {result}...\")\n",
    "print (\"End of the program...\")"
   ]
  },
  {
   "cell_type": "code",
   "execution_count": 2,
   "id": "b89ff7e3-87c2-45a4-9d9c-939625781678",
   "metadata": {},
   "outputs": [
    {
     "name": "stdin",
     "output_type": "stream",
     "text": [
      "Please enter the first number:  100\n",
      "Please enter the second number:  0\n"
     ]
    },
    {
     "ename": "ZeroDivisionError",
     "evalue": "division by zero",
     "output_type": "error",
     "traceback": [
      "\u001b[1;31m---------------------------------------------------------------------------\u001b[0m",
      "\u001b[1;31mZeroDivisionError\u001b[0m                         Traceback (most recent call last)",
      "Cell \u001b[1;32mIn[2], line 4\u001b[0m\n\u001b[0;32m      2\u001b[0m num1 \u001b[38;5;241m=\u001b[39m \u001b[38;5;28mint\u001b[39m(\u001b[38;5;28minput\u001b[39m(\u001b[38;5;124m\"\u001b[39m\u001b[38;5;124mPlease enter the first number: \u001b[39m\u001b[38;5;124m\"\u001b[39m))\n\u001b[0;32m      3\u001b[0m num2 \u001b[38;5;241m=\u001b[39m \u001b[38;5;28mint\u001b[39m(\u001b[38;5;28minput\u001b[39m(\u001b[38;5;124m\"\u001b[39m\u001b[38;5;124mPlease enter the second number: \u001b[39m\u001b[38;5;124m\"\u001b[39m))\n\u001b[1;32m----> 4\u001b[0m result \u001b[38;5;241m=\u001b[39m \u001b[43mnum1\u001b[49m\u001b[43m \u001b[49m\u001b[38;5;241;43m/\u001b[39;49m\u001b[43m \u001b[49m\u001b[43mnum2\u001b[49m\n\u001b[0;32m      5\u001b[0m \u001b[38;5;28mprint\u001b[39m (\u001b[38;5;124mf\u001b[39m\u001b[38;5;124m\"\u001b[39m\u001b[38;5;124mSo \u001b[39m\u001b[38;5;132;01m{\u001b[39;00mnum1\u001b[38;5;132;01m}\u001b[39;00m\u001b[38;5;124m / \u001b[39m\u001b[38;5;132;01m{\u001b[39;00mnum2\u001b[38;5;132;01m}\u001b[39;00m\u001b[38;5;124m = \u001b[39m\u001b[38;5;132;01m{\u001b[39;00mresult\u001b[38;5;132;01m}\u001b[39;00m\u001b[38;5;124m...\u001b[39m\u001b[38;5;124m\"\u001b[39m)\n\u001b[0;32m      6\u001b[0m \u001b[38;5;28mprint\u001b[39m (\u001b[38;5;124m\"\u001b[39m\u001b[38;5;124mEnd of the program...\u001b[39m\u001b[38;5;124m\"\u001b[39m)\n",
      "\u001b[1;31mZeroDivisionError\u001b[0m: division by zero"
     ]
    }
   ],
   "source": [
    "# exception means errorneous condition\n",
    "num1 = int(input(\"Please enter the first number: \"))\n",
    "num2 = int(input(\"Please enter the second number: \"))\n",
    "result = num1 / num2\n",
    "print (f\"So {num1} / {num2} = {result}...\")\n",
    "print (\"End of the program...\")"
   ]
  },
  {
   "cell_type": "code",
   "execution_count": 3,
   "id": "bb25d628-1201-46ef-9b61-9530ce9e5f29",
   "metadata": {},
   "outputs": [
    {
     "name": "stdin",
     "output_type": "stream",
     "text": [
      "Please enter the first number:  100\n",
      "Please enter the second number:  0\n"
     ]
    },
    {
     "name": "stdout",
     "output_type": "stream",
     "text": [
      "ZeroDivisionError: Division by ZERO is Illegal...\n",
      "ZeroDivisionError: Error type: <class 'ZeroDivisionError'>\n",
      "ZeroDivisionError: Error message: division by zero\n",
      "End of the program...\n"
     ]
    }
   ],
   "source": [
    "# exception means errorneous condition\n",
    "try:\n",
    "    num1 = int(input(\"Please enter the first number: \"))\n",
    "    num2 = int(input(\"Please enter the second number: \"))\n",
    "    result = num1 / num2\n",
    "    print (f\"So {num1} / {num2} = {result}...\")\n",
    "except ZeroDivisionError as zde:\n",
    "    print (\"ZeroDivisionError: Division by ZERO is Illegal...\")\n",
    "    print (\"ZeroDivisionError: Error type:\", type(zde))\n",
    "    print (\"ZeroDivisionError: Error message:\", zde)\n",
    "print (\"End of the program...\")"
   ]
  },
  {
   "cell_type": "code",
   "execution_count": 4,
   "id": "a3c4c3c5-011a-4272-85f0-e8c6dc5a4fc7",
   "metadata": {},
   "outputs": [
    {
     "name": "stdin",
     "output_type": "stream",
     "text": [
      "Please enter the first number:  100\n",
      "Please enter the second number:  two\n"
     ]
    },
    {
     "ename": "ValueError",
     "evalue": "invalid literal for int() with base 10: 'two'",
     "output_type": "error",
     "traceback": [
      "\u001b[1;31m---------------------------------------------------------------------------\u001b[0m",
      "\u001b[1;31mValueError\u001b[0m                                Traceback (most recent call last)",
      "Cell \u001b[1;32mIn[4], line 4\u001b[0m\n\u001b[0;32m      2\u001b[0m \u001b[38;5;28;01mtry\u001b[39;00m:\n\u001b[0;32m      3\u001b[0m     num1 \u001b[38;5;241m=\u001b[39m \u001b[38;5;28mint\u001b[39m(\u001b[38;5;28minput\u001b[39m(\u001b[38;5;124m\"\u001b[39m\u001b[38;5;124mPlease enter the first number: \u001b[39m\u001b[38;5;124m\"\u001b[39m))\n\u001b[1;32m----> 4\u001b[0m     num2 \u001b[38;5;241m=\u001b[39m \u001b[38;5;28;43mint\u001b[39;49m\u001b[43m(\u001b[49m\u001b[38;5;28;43minput\u001b[39;49m\u001b[43m(\u001b[49m\u001b[38;5;124;43m\"\u001b[39;49m\u001b[38;5;124;43mPlease enter the second number: \u001b[39;49m\u001b[38;5;124;43m\"\u001b[39;49m\u001b[43m)\u001b[49m\u001b[43m)\u001b[49m\n\u001b[0;32m      5\u001b[0m     result \u001b[38;5;241m=\u001b[39m num1 \u001b[38;5;241m/\u001b[39m num2\n\u001b[0;32m      6\u001b[0m     \u001b[38;5;28mprint\u001b[39m (\u001b[38;5;124mf\u001b[39m\u001b[38;5;124m\"\u001b[39m\u001b[38;5;124mSo \u001b[39m\u001b[38;5;132;01m{\u001b[39;00mnum1\u001b[38;5;132;01m}\u001b[39;00m\u001b[38;5;124m / \u001b[39m\u001b[38;5;132;01m{\u001b[39;00mnum2\u001b[38;5;132;01m}\u001b[39;00m\u001b[38;5;124m = \u001b[39m\u001b[38;5;132;01m{\u001b[39;00mresult\u001b[38;5;132;01m}\u001b[39;00m\u001b[38;5;124m...\u001b[39m\u001b[38;5;124m\"\u001b[39m)\n",
      "\u001b[1;31mValueError\u001b[0m: invalid literal for int() with base 10: 'two'"
     ]
    }
   ],
   "source": [
    "# exception means errorneous condition\n",
    "try:\n",
    "    num1 = int(input(\"Please enter the first number: \"))\n",
    "    num2 = int(input(\"Please enter the second number: \"))\n",
    "    result = num1 / num2\n",
    "    print (f\"So {num1} / {num2} = {result}...\")\n",
    "except ZeroDivisionError as zde:\n",
    "    print (\"ZeroDivisionError: Division by ZERO is Illegal...\")\n",
    "    print (\"ZeroDivisionError: Error type:\", type(zde))\n",
    "    print (\"ZeroDivisionError: Error message:\", zde)\n",
    "print (\"End of the program...\")"
   ]
  },
  {
   "cell_type": "code",
   "execution_count": 5,
   "id": "c1b18a8f-a655-42ea-ac14-b63a40be92da",
   "metadata": {},
   "outputs": [
    {
     "name": "stdin",
     "output_type": "stream",
     "text": [
      "Please enter the first number:  100\n",
      "Please enter the second number:  two\n"
     ]
    },
    {
     "name": "stdout",
     "output_type": "stream",
     "text": [
      "ValueError: Give integer inputs only...\n",
      "ValueError: Error type: <class 'ValueError'>\n",
      "ValueError: Error message: invalid literal for int() with base 10: 'two'\n",
      "End of the program...\n"
     ]
    }
   ],
   "source": [
    "# exception means errorneous condition\n",
    "try:\n",
    "    num1 = int(input(\"Please enter the first number: \"))\n",
    "    num2 = int(input(\"Please enter the second number: \"))\n",
    "    result = num1 / num2\n",
    "    print (f\"So {num1} / {num2} = {result}...\")\n",
    "except ZeroDivisionError as zde:\n",
    "    print (\"ZeroDivisionError: Division by ZERO is Illegal...\")\n",
    "    print (\"ZeroDivisionError: Error type:\", type(zde))\n",
    "    print (\"ZeroDivisionError: Error message:\", zde)\n",
    "except ValueError as ve:\n",
    "    print (\"ValueError: Give integer inputs only...\")\n",
    "    print (\"ValueError: Error type:\", type(ve))\n",
    "    print (\"ValueError: Error message:\", ve)\n",
    "print (\"End of the program...\")"
   ]
  },
  {
   "cell_type": "code",
   "execution_count": 7,
   "id": "5ddbec40-f3bd-4dca-9980-920e60164e7e",
   "metadata": {},
   "outputs": [
    {
     "name": "stdin",
     "output_type": "stream",
     "text": [
      "Please enter the first number:  100\n",
      "Please enter the second number:  0\n"
     ]
    },
    {
     "name": "stdout",
     "output_type": "stream",
     "text": [
      "ZeroDivisionError: Division by ZERO is Illegal...\n",
      "ZeroDivisionError: Error type: <class 'ZeroDivisionError'>\n",
      "ZeroDivisionError: Error message: division by zero\n",
      "End of the program...\n"
     ]
    }
   ],
   "source": [
    "# exception means errorneous condition\n",
    "try:\n",
    "    num1 = int(input(\"Please enter the first number: \"))\n",
    "    num2 = int(input(\"Please enter the second number: \"))\n",
    "    result = num1 / num2\n",
    "    print (f\"So {num1} / {num2} = {result}...\")\n",
    "except ValueError as ve:\n",
    "    print (\"ValueError: Give integer inputs only...\")\n",
    "    print (\"ValueError: Error type:\", type(ve))\n",
    "    print (\"ValueError: Error message:\", ve)\n",
    "except ZeroDivisionError as zde:\n",
    "    print (\"ZeroDivisionError: Division by ZERO is Illegal...\")\n",
    "    print (\"ZeroDivisionError: Error type:\", type(zde))\n",
    "    print (\"ZeroDivisionError: Error message:\", zde)\n",
    "print (\"End of the program...\")"
   ]
  },
  {
   "cell_type": "code",
   "execution_count": 13,
   "id": "9c737a43-4b73-439e-8171-8452662f11e1",
   "metadata": {},
   "outputs": [
    {
     "name": "stdin",
     "output_type": "stream",
     "text": [
      "Please enter the first number:  100\n",
      "Please enter the second number:  two\n"
     ]
    },
    {
     "name": "stdout",
     "output_type": "stream",
     "text": [
      "Exception: Error has occurred...\n",
      "Exception: Error type: <class 'ValueError'>\n",
      "Exception: Error message: invalid literal for int() with base 10: 'two'\n",
      "End of the program...\n"
     ]
    }
   ],
   "source": [
    "# https://docs.python.org/3.11/library/exceptions.html\n",
    "# exception means errorneous condition\n",
    "try:\n",
    "    num1 = int(input(\"Please enter the first number: \"))\n",
    "    num2 = int(input(\"Please enter the second number: \"))\n",
    "    result = num1 / num2\n",
    "    print (f\"So {num1} / {num2} = {result}...\")\n",
    "# except ValueError as ve:\n",
    "#     print (\"ValueError: Give integer inputs only...\")\n",
    "#     print (\"ValueError: Error type:\", type(ve))\n",
    "#     print (\"ValueError: Error message:\", ve)\n",
    "except ZeroDivisionError as zde:\n",
    "    print (\"ZeroDivisionError: Division by ZERO is Illegal...\")\n",
    "    print (\"ZeroDivisionError: Error type:\", type(zde))\n",
    "    print (\"ZeroDivisionError: Error message:\", zde)\n",
    "except Exception as ex:\n",
    "    print (\"Exception: Error has occurred...\")\n",
    "    print (\"Exception: Error type:\", type(ex))\n",
    "    print (\"Exception: Error message:\", ex)\n",
    "print (\"End of the program...\")"
   ]
  },
  {
   "cell_type": "code",
   "execution_count": 15,
   "id": "9ca3264e-b5c5-4faa-b131-35da7ac5ec9e",
   "metadata": {},
   "outputs": [
    {
     "name": "stdin",
     "output_type": "stream",
     "text": [
      "Please enter the first number:  hundred\n"
     ]
    },
    {
     "name": "stdout",
     "output_type": "stream",
     "text": [
      "Exception: Error has occurred...\n",
      "Exception: Error type: <class 'ValueError'>\n",
      "Exception: Error message: invalid literal for int() with base 10: 'hundred'\n",
      "End of the program...\n"
     ]
    }
   ],
   "source": [
    "# https://docs.python.org/3.11/library/exceptions.html\n",
    "# exception means errorneous condition\n",
    "try:\n",
    "    num1 = int(input(\"Please enter the first number: \"))\n",
    "    num2 = int(input(\"Please enter the second number: \"))\n",
    "    result = num1 / num2\n",
    "    print (f\"So {num1} / {num2} = {result}...\")\n",
    "except Exception as ex:\n",
    "    print (\"Exception: Error has occurred...\")\n",
    "    print (\"Exception: Error type:\", type(ex))\n",
    "    print (\"Exception: Error message:\", ex)\n",
    "except ValueError as ve:\n",
    "    print (\"ValueError: Give integer inputs only...\")\n",
    "    print (\"ValueError: Error type:\", type(ve))\n",
    "    print (\"ValueError: Error message:\", ve)\n",
    "except ZeroDivisionError as zde:\n",
    "    print (\"ZeroDivisionError: Division by ZERO is Illegal...\")\n",
    "    print (\"ZeroDivisionError: Error type:\", type(zde))\n",
    "    print (\"ZeroDivisionError: Error message:\", zde)\n",
    "print (\"End of the program...\")"
   ]
  },
  {
   "cell_type": "code",
   "execution_count": 17,
   "id": "2365fbcb-1c5d-4923-842e-1a1bb4362d03",
   "metadata": {},
   "outputs": [
    {
     "name": "stdin",
     "output_type": "stream",
     "text": [
      "Please enter the first number:  ten\n"
     ]
    },
    {
     "name": "stdout",
     "output_type": "stream",
     "text": [
      "ValueError: Give integer inputs only...\n",
      "ValueError: Error type: <class 'ValueError'>\n",
      "ValueError: Error message: invalid literal for int() with base 10: 'ten'\n",
      "End of the program...\n"
     ]
    }
   ],
   "source": [
    "# https://docs.python.org/3.11/library/exceptions.html\n",
    "# exception means errorneous condition\n",
    "try:\n",
    "    num1 = int(input(\"Please enter the first number: \"))\n",
    "    num2 = int(input(\"Please enter the second number: \"))\n",
    "    result = num1 / num2\n",
    "    print (f\"So {num1} / {num2} = {result}...\")\n",
    "except ValueError as ve:\n",
    "    print (\"ValueError: Give integer inputs only...\")\n",
    "    print (\"ValueError: Error type:\", type(ve))\n",
    "    print (\"ValueError: Error message:\", ve)\n",
    "except ZeroDivisionError as zde:\n",
    "    print (\"ZeroDivisionError: Division by ZERO is Illegal...\")\n",
    "    print (\"ZeroDivisionError: Error type:\", type(zde))\n",
    "    print (\"ZeroDivisionError: Error message:\", zde)\n",
    "except Exception as ex:\n",
    "    print (\"Exception: Error has occurred...\")\n",
    "    print (\"Exception: Error type:\", type(ex))\n",
    "    print (\"Exception: Error message:\", ex)\n",
    "print (\"End of the program...\")"
   ]
  },
  {
   "cell_type": "code",
   "execution_count": 21,
   "id": "2c668a1a-1238-4206-a9eb-c748859271c4",
   "metadata": {},
   "outputs": [
    {
     "name": "stdin",
     "output_type": "stream",
     "text": [
      "Please enter the first number:  100\n",
      "Please enter the second number:  20\n"
     ]
    },
    {
     "name": "stdout",
     "output_type": "stream",
     "text": [
      "So 100 / 20 = 5.0...\n",
      "ELSE Block is executing...\n",
      "ELSE Block executes whenever there is no exception...\n",
      "FINALLY Block is executing...\n",
      "FINALLY always executes...\n",
      "End of the program...\n"
     ]
    }
   ],
   "source": [
    "try:\n",
    "    num1 = int(input(\"Please enter the first number: \"))\n",
    "    num2 = int(input(\"Please enter the second number: \"))\n",
    "    result = num1 / num2\n",
    "    print (f\"So {num1} / {num2} = {result}...\")\n",
    "except ValueError as ve:\n",
    "    print (\"ValueError: Give integer inputs only...\")\n",
    "    print (\"ValueError: Error type:\", type(ve))\n",
    "    print (\"ValueError: Error message:\", ve)\n",
    "except ZeroDivisionError as zde:\n",
    "    print (\"ZeroDivisionError: Division by ZERO is Illegal...\")\n",
    "    print (\"ZeroDivisionError: Error type:\", type(zde))\n",
    "    print (\"ZeroDivisionError: Error message:\", zde)\n",
    "except Exception as ex:\n",
    "    print (\"Exception: Error has occurred...\")\n",
    "    print (\"Exception: Error type:\", type(ex))\n",
    "    print (\"Exception: Error message:\", ex)\n",
    "else:\n",
    "    print (\"ELSE Block is executing...\")\n",
    "    print (\"ELSE Block executes whenever there is no exception...\")\n",
    "finally:\n",
    "    print (\"FINALLY Block is executing...\")\n",
    "    print (\"FINALLY always executes...\")\n",
    "print (\"End of the program...\")"
   ]
  },
  {
   "cell_type": "code",
   "execution_count": 23,
   "id": "453a15ba-119f-4d21-b7cd-e7ebf0366afa",
   "metadata": {},
   "outputs": [
    {
     "name": "stdin",
     "output_type": "stream",
     "text": [
      "Please enter the first number between -100 to +100:  40\n",
      "Please enter the second number between -100 to +100:  -900\n"
     ]
    },
    {
     "name": "stdout",
     "output_type": "stream",
     "text": [
      "NameError: Input number is out of range...\n",
      "NameError: Error type: <class 'NameError'>\n",
      "NameError: Error message: Below-100\n",
      "NameError: Input number is below -100...\n",
      "FINALLY Block is executing...\n",
      "FINALLY always executes...\n",
      "End of the program...\n"
     ]
    }
   ],
   "source": [
    "# user defined exception\n",
    "try:\n",
    "    num1 = int(input(\"Please enter the first number between -100 to +100: \"))\n",
    "    num2 = int(input(\"Please enter the second number between -100 to +100: \"))\n",
    "    if (num1 > 100 or num2 > 100): raise NameError(\"Above+100\")\n",
    "    if (num1 < -100 or num2 < -100): raise NameError(\"Below-100\")\n",
    "    result = num1 / num2\n",
    "    print (f\"So {num1} / {num2} = {result}...\")\n",
    "except NameError as ne:\n",
    "    print (\"NameError: Input number is out of range...\")\n",
    "    print (\"NameError: Error type:\", type(ne))\n",
    "    print (\"NameError: Error message:\", ne)\n",
    "    if (str(ne) == \"Above+100\"): print (\"NameError: Input number is above +100...\")\n",
    "    if (str(ne) == \"Below-100\"): print (\"NameError: Input number is below -100...\")\n",
    "except ValueError as ve:\n",
    "    print (\"ValueError: Give integer inputs only...\")\n",
    "    print (\"ValueError: Error type:\", type(ve))\n",
    "    print (\"ValueError: Error message:\", ve)\n",
    "except ZeroDivisionError as zde:\n",
    "    print (\"ZeroDivisionError: Division by ZERO is Illegal...\")\n",
    "    print (\"ZeroDivisionError: Error type:\", type(zde))\n",
    "    print (\"ZeroDivisionError: Error message:\", zde)\n",
    "except Exception as ex:\n",
    "    print (\"Exception: Error has occurred...\")\n",
    "    print (\"Exception: Error type:\", type(ex))\n",
    "    print (\"Exception: Error message:\", ex)\n",
    "else:\n",
    "    print (\"ELSE Block is executing...\")\n",
    "    print (\"ELSE Block executes whenever there is no exception...\")\n",
    "finally:\n",
    "    print (\"FINALLY Block is executing...\")\n",
    "    print (\"FINALLY always executes...\")\n",
    "print (\"End of the program...\")"
   ]
  },
  {
   "cell_type": "code",
   "execution_count": 24,
   "id": "5eebe30a-59aa-4c7a-967c-b293264c75ad",
   "metadata": {},
   "outputs": [
    {
     "name": "stdin",
     "output_type": "stream",
     "text": [
      "Please enter the first number between -100 to +100:  100\n",
      "Please enter the second number between -100 to +100:  0\n"
     ]
    },
    {
     "name": "stdout",
     "output_type": "stream",
     "text": [
      "ZeroDivisionError: Division by ZERO is Illegal...\n",
      "ZeroDivisionError: Error type: <class 'ZeroDivisionError'>\n",
      "ZeroDivisionError: Error message: division by zero\n",
      "FINALLY Block is executing...\n",
      "FINALLY always executes...\n"
     ]
    },
    {
     "name": "stdin",
     "output_type": "stream",
     "text": [
      "Please enter the first number between -100 to +100:  -300\n",
      "Please enter the second number between -100 to +100:  20\n"
     ]
    },
    {
     "name": "stdout",
     "output_type": "stream",
     "text": [
      "NameError: Input number is out of range...\n",
      "NameError: Error type: <class 'NameError'>\n",
      "NameError: Error message: Below-100\n",
      "NameError: Input number is below -100...\n",
      "FINALLY Block is executing...\n",
      "FINALLY always executes...\n"
     ]
    },
    {
     "name": "stdin",
     "output_type": "stream",
     "text": [
      "Please enter the first number between -100 to +100:  900\n",
      "Please enter the second number between -100 to +100:  20\n"
     ]
    },
    {
     "name": "stdout",
     "output_type": "stream",
     "text": [
      "NameError: Input number is out of range...\n",
      "NameError: Error type: <class 'NameError'>\n",
      "NameError: Error message: Above+100\n",
      "NameError: Input number is above +100...\n",
      "FINALLY Block is executing...\n",
      "FINALLY always executes...\n"
     ]
    },
    {
     "name": "stdin",
     "output_type": "stream",
     "text": [
      "Please enter the first number between -100 to +100:  100\n",
      "Please enter the second number between -100 to +100:  two\n"
     ]
    },
    {
     "name": "stdout",
     "output_type": "stream",
     "text": [
      "ValueError: Give integer inputs only...\n",
      "ValueError: Error type: <class 'ValueError'>\n",
      "ValueError: Error message: invalid literal for int() with base 10: 'two'\n",
      "FINALLY Block is executing...\n",
      "FINALLY always executes...\n"
     ]
    },
    {
     "name": "stdin",
     "output_type": "stream",
     "text": [
      "Please enter the first number between -100 to +100:  12.5\n"
     ]
    },
    {
     "name": "stdout",
     "output_type": "stream",
     "text": [
      "ValueError: Give integer inputs only...\n",
      "ValueError: Error type: <class 'ValueError'>\n",
      "ValueError: Error message: invalid literal for int() with base 10: '12.5'\n",
      "FINALLY Block is executing...\n",
      "FINALLY always executes...\n"
     ]
    },
    {
     "name": "stdin",
     "output_type": "stream",
     "text": [
      "Please enter the first number between -100 to +100:  80\n",
      "Please enter the second number between -100 to +100:  16\n"
     ]
    },
    {
     "name": "stdout",
     "output_type": "stream",
     "text": [
      "So 80 / 16 = 5.0...\n",
      "ELSE Block is executing...\n",
      "ELSE Block executes whenever there is no exception...\n",
      "FINALLY Block is executing...\n",
      "FINALLY always executes...\n",
      "End of the program...\n"
     ]
    }
   ],
   "source": [
    "# user defined exception\n",
    "while (True):\n",
    "    try:\n",
    "        num1 = int(input(\"Please enter the first number between -100 to +100: \"))\n",
    "        num2 = int(input(\"Please enter the second number between -100 to +100: \"))\n",
    "        if (num1 > 100 or num2 > 100): raise NameError(\"Above+100\")\n",
    "        if (num1 < -100 or num2 < -100): raise NameError(\"Below-100\")\n",
    "        result = num1 / num2\n",
    "        print (f\"So {num1} / {num2} = {result}...\")\n",
    "    except NameError as ne:\n",
    "        print (\"NameError: Input number is out of range...\")\n",
    "        print (\"NameError: Error type:\", type(ne))\n",
    "        print (\"NameError: Error message:\", ne)\n",
    "        if (str(ne) == \"Above+100\"): print (\"NameError: Input number is above +100...\")\n",
    "        if (str(ne) == \"Below-100\"): print (\"NameError: Input number is below -100...\")\n",
    "    except ValueError as ve:\n",
    "        print (\"ValueError: Give integer inputs only...\")\n",
    "        print (\"ValueError: Error type:\", type(ve))\n",
    "        print (\"ValueError: Error message:\", ve)\n",
    "    except ZeroDivisionError as zde:\n",
    "        print (\"ZeroDivisionError: Division by ZERO is Illegal...\")\n",
    "        print (\"ZeroDivisionError: Error type:\", type(zde))\n",
    "        print (\"ZeroDivisionError: Error message:\", zde)\n",
    "    except Exception as ex:\n",
    "        print (\"Exception: Error has occurred...\")\n",
    "        print (\"Exception: Error type:\", type(ex))\n",
    "        print (\"Exception: Error message:\", ex)\n",
    "    else:\n",
    "        print (\"ELSE Block is executing...\")\n",
    "        print (\"ELSE Block executes whenever there is no exception...\")\n",
    "        break\n",
    "    finally:\n",
    "        print (\"FINALLY Block is executing...\")\n",
    "        print (\"FINALLY always executes...\")\n",
    "print (\"End of the program...\")"
   ]
  },
  {
   "cell_type": "code",
   "execution_count": null,
   "id": "dbc62dfd-48f9-4004-b9b7-7a28334e2ab4",
   "metadata": {},
   "outputs": [],
   "source": []
  }
 ],
 "metadata": {
  "kernelspec": {
   "display_name": "Python 3 (ipykernel)",
   "language": "python",
   "name": "python3"
  },
  "language_info": {
   "codemirror_mode": {
    "name": "ipython",
    "version": 3
   },
   "file_extension": ".py",
   "mimetype": "text/x-python",
   "name": "python",
   "nbconvert_exporter": "python",
   "pygments_lexer": "ipython3",
   "version": "3.10.9"
  }
 },
 "nbformat": 4,
 "nbformat_minor": 5
}
