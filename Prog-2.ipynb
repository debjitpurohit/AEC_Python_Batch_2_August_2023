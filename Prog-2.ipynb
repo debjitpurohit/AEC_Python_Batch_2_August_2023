{
 "cells": [
  {
   "cell_type": "markdown",
   "id": "7a770f43-ae03-47b5-8b54-d79c8c50e475",
   "metadata": {},
   "source": [
    "### **String Processing**"
   ]
  },
  {
   "cell_type": "code",
   "execution_count": null,
   "id": "fef16445-9c0a-4ade-be8d-1cc351f6ae53",
   "metadata": {},
   "outputs": [],
   "source": [
    "Left to Right ->   0   1   2   3   4   5   6   7   8   9\n",
    "        mystr ->   u   n   i   v   e   r   s   i   t   y\n",
    "Right to Left -> -10  -9  -8  -7  -6  -5  -4  -3  -2  -1"
   ]
  },
  {
   "cell_type": "code",
   "execution_count": 21,
   "id": "467119ff-9638-49d1-bb21-b76bf79f393a",
   "metadata": {},
   "outputs": [
    {
     "name": "stdout",
     "output_type": "stream",
     "text": [
      "university 10 <class 'str'> 2258427820784\n",
      "i i i i e e\n",
      "univer univer univer univer\n",
      "sity sity\n",
      "niversi niversi niversi niversi\n",
      "ver ver ver ver\n",
      "nvriy uiest yirvn yirvn tseiu tseiu\n",
      "ytisrevinu\n"
     ]
    }
   ],
   "source": [
    "mystr = \"university\"\n",
    "print (mystr, len(mystr), type(mystr), id(mystr))\n",
    "print (mystr[2], mystr[-8], mystr[7], mystr[-3], mystr[4], mystr[-6]) # indexing\n",
    "print (mystr[0:6], mystr[0:-4], mystr[:6], mystr[:-4]) # slicing\n",
    "print (mystr[6:], mystr[-4:])\n",
    "print (mystr[1:8], mystr[-9:-2], mystr[1:-2], mystr[-9:8])\n",
    "print (mystr[3:6], mystr[-7:-4], mystr[3:-4], mystr[-7:6])\n",
    "print (mystr[1::2], mystr[0::2], mystr[9:0:-2], mystr[-1:0:-2], mystr[8::-2], mystr[-2::-2])\n",
    "print (mystr[::-1])"
   ]
  },
  {
   "cell_type": "code",
   "execution_count": 24,
   "id": "9dc5bf8c-bca3-4ba6-b5fa-3e424732b947",
   "metadata": {},
   "outputs": [
    {
     "name": "stdout",
     "output_type": "stream",
     "text": [
      "calCUtTa unIVerSitY 19 <class 'str'> 2258422536016\n",
      "CALCUTTA UNIVERSITY\n",
      "calcutta university\n",
      "Calcutta university\n",
      "Calcutta University\n",
      "CALcuTtA UNivERsITy\n",
      "          calCUtTa unIVerSitY           \n",
      "          CALCUTTA UNIVERSITY           \n",
      "          CALCUTTA UNIVERSITY           \n"
     ]
    }
   ],
   "source": [
    "mystr = \"calCUtTa unIVerSitY\"\n",
    "print (mystr, len(mystr), type(mystr), id(mystr))\n",
    "print (mystr.upper())\n",
    "print (mystr.lower())\n",
    "print (mystr.capitalize())\n",
    "print (mystr.title())\n",
    "print (mystr.swapcase())\n",
    "print (mystr.center(40))\n",
    "print (mystr.upper().center(40))\n",
    "print (mystr.center(40).upper())"
   ]
  },
  {
   "cell_type": "code",
   "execution_count": 32,
   "id": "0a600655-924a-46ba-b6e6-6615e3850232",
   "metadata": {},
   "outputs": [
    {
     "name": "stdout",
     "output_type": "stream",
     "text": [
      "charity begins at home 22 <class 'str'> 2258454780928\n",
      "2 4 11 -1\n",
      "-1 2 10 -1\n"
     ]
    }
   ],
   "source": [
    "mystr = \"charity begins at home\"\n",
    "print (mystr, len(mystr), type(mystr), id(mystr))\n",
    "print (mystr.find(\"ari\"), mystr.find(\"i\"), mystr.find(\"i\", 5), mystr.find(\"i\", 12))\n",
    "print (mystr.find(\"ArI\"), mystr.find(\"ArI\".lower()), mystr.find(\"gins\", 8), mystr.find(\"gins\", 8, 12))"
   ]
  },
  {
   "cell_type": "code",
   "execution_count": 37,
   "id": "ffa732e6-8142-4506-9b6d-91330ce693c0",
   "metadata": {},
   "outputs": [
    {
     "name": "stdout",
     "output_type": "stream",
     "text": [
      "charity begins at home 22 <class 'str'> 2258429977792\n",
      "2\n",
      "4\n",
      "11\n"
     ]
    },
    {
     "ename": "ValueError",
     "evalue": "substring not found",
     "output_type": "error",
     "traceback": [
      "\u001b[1;31m---------------------------------------------------------------------------\u001b[0m",
      "\u001b[1;31mValueError\u001b[0m                                Traceback (most recent call last)",
      "Cell \u001b[1;32mIn[37], line 6\u001b[0m\n\u001b[0;32m      4\u001b[0m \u001b[38;5;28mprint\u001b[39m (mystr\u001b[38;5;241m.\u001b[39mindex(\u001b[38;5;124m\"\u001b[39m\u001b[38;5;124mi\u001b[39m\u001b[38;5;124m\"\u001b[39m))\n\u001b[0;32m      5\u001b[0m \u001b[38;5;28mprint\u001b[39m (mystr\u001b[38;5;241m.\u001b[39mindex(\u001b[38;5;124m\"\u001b[39m\u001b[38;5;124mi\u001b[39m\u001b[38;5;124m\"\u001b[39m, \u001b[38;5;241m5\u001b[39m))\n\u001b[1;32m----> 6\u001b[0m \u001b[38;5;28mprint\u001b[39m (\u001b[43mmystr\u001b[49m\u001b[38;5;241;43m.\u001b[39;49m\u001b[43mindex\u001b[49m\u001b[43m(\u001b[49m\u001b[38;5;124;43m\"\u001b[39;49m\u001b[38;5;124;43mi\u001b[39;49m\u001b[38;5;124;43m\"\u001b[39;49m\u001b[43m,\u001b[49m\u001b[43m \u001b[49m\u001b[38;5;241;43m12\u001b[39;49m\u001b[43m)\u001b[49m)\n",
      "\u001b[1;31mValueError\u001b[0m: substring not found"
     ]
    }
   ],
   "source": [
    "mystr = \"charity begins at home\"\n",
    "print (mystr, len(mystr), type(mystr), id(mystr))\n",
    "print (mystr.index(\"ari\"))\n",
    "print (mystr.index(\"i\"))\n",
    "print (mystr.index(\"i\", 5))\n",
    "print (mystr.index(\"i\", 12))"
   ]
  },
  {
   "cell_type": "code",
   "execution_count": 36,
   "id": "93ee5c3a-1c8b-451a-8016-6baa22762507",
   "metadata": {},
   "outputs": [
    {
     "name": "stdout",
     "output_type": "stream",
     "text": [
      "charity begins at home 22 <class 'str'> 2258457822112\n",
      "2\n",
      "4\n",
      "11\n",
      "Unsuccessful Searching...!!!\n"
     ]
    }
   ],
   "source": [
    "mystr = \"charity begins at home\"\n",
    "print (mystr, len(mystr), type(mystr), id(mystr))\n",
    "try:\n",
    "    print (mystr.index(\"ari\"))\n",
    "    print (mystr.index(\"i\"))\n",
    "    print (mystr.index(\"i\", 5))\n",
    "    print (mystr.index(\"i\", 12))\n",
    "except ValueError as ve:\n",
    "    print (\"Unsuccessful Searching...!!!\")"
   ]
  },
  {
   "cell_type": "code",
   "execution_count": 40,
   "id": "c838f0cd-fc46-4983-a0b2-a82cd89c23eb",
   "metadata": {},
   "outputs": [
    {
     "name": "stdout",
     "output_type": "stream",
     "text": [
      "    calcutta     university       33 <class 'str'> 2258464978960\n",
      "calcutta     university 23\n",
      "calcutta     university       29\n",
      "    calcutta     university 27\n"
     ]
    }
   ],
   "source": [
    "mystr = \"    calcutta     university      \"\n",
    "print (mystr, len(mystr), type(mystr), id(mystr))\n",
    "print (mystr.strip(), len(mystr.strip()))\n",
    "print (mystr.lstrip(), len(mystr.lstrip()))\n",
    "print (mystr.rstrip(), len(mystr.rstrip()))"
   ]
  },
  {
   "cell_type": "code",
   "execution_count": 41,
   "id": "5b60c67b-4552-4f53-b534-55beb741137d",
   "metadata": {},
   "outputs": [
    {
     "name": "stdout",
     "output_type": "stream",
     "text": [
      "#@##calcutta@###@university@#@#@@ 33 <class 'str'> 2258464978864\n",
      "calcutta@###@university 23\n",
      "calcutta@###@university@#@#@@ 29\n",
      "#@##calcutta@###@university 27\n"
     ]
    }
   ],
   "source": [
    "mystr = \"#@##calcutta@###@university@#@#@@\"\n",
    "print (mystr, len(mystr), type(mystr), id(mystr))\n",
    "print (mystr.strip(\"#@\"), len(mystr.strip(\"#@\")))\n",
    "print (mystr.lstrip(\"#@\"), len(mystr.lstrip(\"#@\")))\n",
    "print (mystr.rstrip(\"#@\"), len(mystr.rstrip(\"#@\")))"
   ]
  },
  {
   "cell_type": "code",
   "execution_count": 43,
   "id": "208d568c-b2fb-40c2-a6b8-e5c259cdab43",
   "metadata": {},
   "outputs": [
    {
     "name": "stdout",
     "output_type": "stream",
     "text": [
      "charity begins at home 22 <class 'str'> 2258465390256\n",
      "True False\n",
      "False True\n",
      "True False\n"
     ]
    }
   ],
   "source": [
    "mystr = \"charity begins at home\"\n",
    "print (mystr, len(mystr), type(mystr), id(mystr))\n",
    "print (mystr.startswith(\"cha\"), mystr.startswith(\"Cha\"))\n",
    "print (mystr.startswith(\"beg\"), mystr.startswith(\"beg\", 8))\n",
    "print (mystr.startswith(\"beg\", 8, 1000), mystr.startswith(\"beg\", 8, 10))"
   ]
  },
  {
   "cell_type": "code",
   "execution_count": 48,
   "id": "462fd3ae-b86a-41ba-8d60-abd3fa19206a",
   "metadata": {},
   "outputs": [
    {
     "name": "stdout",
     "output_type": "stream",
     "text": [
      "charity begins at home 22 <class 'str'> 2258465386176\n",
      "True False\n",
      "True\n",
      "False\n",
      "False\n"
     ]
    }
   ],
   "source": [
    "mystr = \"charity begins at home\"\n",
    "print (mystr, len(mystr), type(mystr), id(mystr))\n",
    "print (mystr.endswith(\"ome\"), mystr.endswith(\"gins\"))\n",
    "print (mystr.endswith(\"gins\", 0, 14))\n",
    "print (mystr.endswith(\"gins\", 0, 13))\n",
    "print (mystr.endswith(\"gins\", 11, 14))"
   ]
  },
  {
   "cell_type": "code",
   "execution_count": 50,
   "id": "0b188dea-886b-4ab7-a954-94812f4c2821",
   "metadata": {},
   "outputs": [
    {
     "name": "stdout",
     "output_type": "stream",
     "text": [
      "G\n",
      "a\n",
      "g\n",
      "a\n",
      "n\n"
     ]
    }
   ],
   "source": [
    "mystr = \"Gagan\"\n",
    "for ch in mystr:\n",
    "    print (ch)"
   ]
  },
  {
   "cell_type": "code",
   "execution_count": 53,
   "id": "b8b7fd03-7567-49f7-9b80-24097184dace",
   "metadata": {},
   "outputs": [
    {
     "name": "stdout",
     "output_type": "stream",
     "text": [
      "G\n",
      "a\n",
      "g\n",
      "a\n",
      "n\n"
     ]
    }
   ],
   "source": [
    "mystr = \"Gagan\"\n",
    "for i in range(len(mystr)):\n",
    "    print (mystr[i])   # indexing"
   ]
  },
  {
   "cell_type": "code",
   "execution_count": 52,
   "id": "be2602b0-2e32-402d-af63-6159dc80b863",
   "metadata": {},
   "outputs": [
    {
     "name": "stdout",
     "output_type": "stream",
     "text": [
      "[0, 1, 2, 3, 4]\n"
     ]
    }
   ],
   "source": [
    "print (list(range(5)))"
   ]
  },
  {
   "cell_type": "code",
   "execution_count": 54,
   "id": "222afb82-a6b5-4e2c-a584-9b8025a1b087",
   "metadata": {},
   "outputs": [
    {
     "name": "stdout",
     "output_type": "stream",
     "text": [
      "mississippi\n",
      "['m', 'i', 's', 's', 'i', 's', 's', 'i', 'p', 'p', 'i']\n",
      "('m', 'i', 's', 's', 'i', 's', 's', 'i', 'p', 'p', 'i')\n",
      "{'i', 'm', 'p', 's'}\n",
      "frozenset({'i', 'm', 'p', 's'})\n"
     ]
    }
   ],
   "source": [
    "mystr = \"mississippi\"\n",
    "print (mystr)\n",
    "print (list(mystr))\n",
    "print (tuple(mystr))\n",
    "print (set(mystr))\n",
    "print (frozenset(mystr))"
   ]
  },
  {
   "cell_type": "code",
   "execution_count": 59,
   "id": "51979055-ee2f-48a6-ac37-e3b25dc640af",
   "metadata": {},
   "outputs": [
    {
     "name": "stdout",
     "output_type": "stream",
     "text": [
      "charity begins at home\n",
      "['charity', 'begins', 'at', 'home'] <class 'list'>\n",
      "['char', 'ty beg', 'ns at home'] <class 'list'>\n",
      "['charity begins at home'] <class 'list'>\n",
      "['charity be', ' at home'] <class 'list'>\n"
     ]
    }
   ],
   "source": [
    "mystr = \"charity begins at home\"\n",
    "print (mystr)\n",
    "result = mystr.split()\n",
    "print (result, type(result))\n",
    "result = mystr.split(\"i\")\n",
    "print (result, type(result))\n",
    "result = mystr.split(\"x\")\n",
    "print (result, type(result))\n",
    "result = mystr.split(\"gins\")\n",
    "print (result, type(result))"
   ]
  },
  {
   "cell_type": "code",
   "execution_count": 64,
   "id": "fa47caca-8ec4-4d2d-adfa-ba26859bd43a",
   "metadata": {},
   "outputs": [
    {
     "name": "stdout",
     "output_type": "stream",
     "text": [
      "True False\n",
      "True False\n",
      "False True\n",
      "False True\n"
     ]
    }
   ],
   "source": [
    "print (\"i\" in \"university\", \"i\" not in \"university\")\n",
    "print (\"niv\" in \"university\", \"niv\" not in \"university\")\n",
    "print (\"wxyz\" in \"university\", \"wxyz\" not in \"university\")\n",
    "print (\"I\" in \"university\", \"I\" not in \"university\")"
   ]
  },
  {
   "cell_type": "code",
   "execution_count": 65,
   "id": "a0f8b5a3-af38-4c7d-b868-a2fd0e1db010",
   "metadata": {},
   "outputs": [
    {
     "name": "stdout",
     "output_type": "stream",
     "text": [
      "Help on method_descriptor:\n",
      "\n",
      "split(self, /, sep=None, maxsplit=-1)\n",
      "    Return a list of the substrings in the string, using sep as the separator string.\n",
      "    \n",
      "      sep\n",
      "        The separator used to split the string.\n",
      "    \n",
      "        When set to None (the default value), will split on any whitespace\n",
      "        character (including \\\\n \\\\r \\\\t \\\\f and spaces) and will discard\n",
      "        empty strings from the result.\n",
      "      maxsplit\n",
      "        Maximum number of splits (starting from the left).\n",
      "        -1 (the default value) means no limit.\n",
      "    \n",
      "    Note, str.split() is mainly useful for data that has been intentionally\n",
      "    delimited.  With natural text that includes punctuation, consider using\n",
      "    the regular expression module.\n",
      "\n"
     ]
    }
   ],
   "source": [
    "help(str.split)"
   ]
  },
  {
   "cell_type": "code",
   "execution_count": 71,
   "id": "1c75e465-e815-47cc-8989-4be4713794e6",
   "metadata": {},
   "outputs": [
    {
     "name": "stdout",
     "output_type": "stream",
     "text": [
      "charity begins at home\n",
      "['charity', 'begins', 'at', 'home']\n",
      "charity begins at home\n",
      "charity - begins - at - home\n",
      "charity, begins, at, home\n"
     ]
    }
   ],
   "source": [
    "mystr = \"charity begins at home\"\n",
    "print (mystr)\n",
    "result = mystr.split()\n",
    "print (result)\n",
    "outputstr = \" \".join(result)\n",
    "print (outputstr)\n",
    "outputstr = \" - \".join(result)\n",
    "print (outputstr)\n",
    "outputstr = \", \".join(result)\n",
    "print (outputstr)"
   ]
  },
  {
   "cell_type": "code",
   "execution_count": 72,
   "id": "c73c943d-cde9-4373-8c36-ee091f934fd4",
   "metadata": {},
   "outputs": [
    {
     "name": "stdout",
     "output_type": "stream",
     "text": [
      "4\n",
      "2\n",
      "1\n",
      "4\n"
     ]
    }
   ],
   "source": [
    "mystr = \"mississippi\"\n",
    "print (mystr.count(\"i\"))\n",
    "print (mystr.count(\"p\"))\n",
    "print (mystr.count(\"m\"))\n",
    "print (mystr.count(\"s\"))"
   ]
  },
  {
   "cell_type": "code",
   "execution_count": 73,
   "id": "76e088f0-32b3-4a60-971b-a289f01c0a05",
   "metadata": {},
   "outputs": [
    {
     "name": "stdout",
     "output_type": "stream",
     "text": [
      "good night\n",
      "good morning\n",
      "good evening\n",
      "good evening\n"
     ]
    }
   ],
   "source": [
    "mystr = \"good night\"\n",
    "print (mystr)\n",
    "mystr = mystr.replace(\"night\", \"morning\")\n",
    "print (mystr)\n",
    "mystr = mystr.replace(\"morning\", \"evening\")\n",
    "print (mystr)\n",
    "mystr = mystr.replace(\"day\", \"night\")\n",
    "print (mystr)"
   ]
  },
  {
   "cell_type": "code",
   "execution_count": 76,
   "id": "a1978284-b7c4-4c8b-9343-43b5ba4b171d",
   "metadata": {},
   "outputs": [
    {
     "name": "stdout",
     "output_type": "stream",
     "text": [
      "1234 False True True True\n",
      "abcd True True False False\n",
      "1234abcd False True False False\n",
      "1234@abcd False False False False\n",
      "四 True True True False\n",
      "     True\n"
     ]
    }
   ],
   "source": [
    "mystr = \"1234\"\n",
    "print (mystr, mystr.isalpha(), mystr.isalnum(), mystr.isnumeric(), mystr.isdigit())\n",
    "mystr = \"abcd\"\n",
    "print (mystr, mystr.isalpha(), mystr.isalnum(), mystr.isnumeric(), mystr.isdigit())\n",
    "mystr = \"1234abcd\"\n",
    "print (mystr, mystr.isalpha(), mystr.isalnum(), mystr.isnumeric(), mystr.isdigit())\n",
    "mystr = \"1234@abcd\"\n",
    "print (mystr, mystr.isalpha(), mystr.isalnum(), mystr.isnumeric(), mystr.isdigit())\n",
    "mystr = \"四\"\n",
    "print (mystr, mystr.isalpha(), mystr.isalnum(), mystr.isnumeric(), mystr.isdigit())\n",
    "mystr = \"    \"\n",
    "print (mystr, mystr.isspace())"
   ]
  },
  {
   "cell_type": "markdown",
   "id": "1f0c778c-2a51-4d4f-b385-f43cdff93e4c",
   "metadata": {},
   "source": [
    "### Class Assignment"
   ]
  },
  {
   "cell_type": "code",
   "execution_count": null,
   "id": "3d667f05-0d64-4eac-8155-507baeecb7d9",
   "metadata": {},
   "outputs": [],
   "source": [
    "Take a string from the user input. The string may contain upper and lower case characters, spaces, digits\n",
    "and special characters. E.g. \"unI234v@#  ersiT78@#y\"\n",
    "Now find the number of vowels and consonants within that string.\n",
    "Here for the given input, output will be:\n",
    "Vowel count = 4\n",
    "Consonant count = 6"
   ]
  },
  {
   "cell_type": "code",
   "execution_count": 77,
   "id": "8a2c9860-836f-4e8a-9b0a-e4b690e2b8a2",
   "metadata": {},
   "outputs": [
    {
     "name": "stdin",
     "output_type": "stream",
     "text": [
      "Please enter your string:  unI234v@#  ersiT78@#y\n"
     ]
    },
    {
     "name": "stdout",
     "output_type": "stream",
     "text": [
      "So the input string will have vowel count = 4 and consonant count = 6...\n",
      "End of the program...\n"
     ]
    }
   ],
   "source": [
    "mystr = input(\"Please enter your string: \")\n",
    "ccount = 0\n",
    "vcount = 0\n",
    "for ch in mystr.lower():\n",
    "    if (ch.isalpha()):\n",
    "        if (ch in \"aeiou\"): vcount += 1\n",
    "        else: ccount += 1\n",
    "print (f\"So the input string will have vowel count = {vcount} and consonant count = {ccount}...\")\n",
    "print (\"End of the program...\")"
   ]
  },
  {
   "cell_type": "code",
   "execution_count": null,
   "id": "9e1a4273-6fe2-4a70-a5fd-dfcb94755b2f",
   "metadata": {},
   "outputs": [],
   "source": []
  },
  {
   "cell_type": "markdown",
   "id": "427b89c9-3dd8-437f-bec2-378620abcbfc",
   "metadata": {},
   "source": [
    "### **List Processing**"
   ]
  },
  {
   "cell_type": "code",
   "execution_count": 78,
   "id": "63dc521c-c572-4ef2-b0de-26cc7e758bfa",
   "metadata": {},
   "outputs": [
    {
     "name": "stdout",
     "output_type": "stream",
     "text": [
      "[100, 400, 300, 200, 900] 5 <class 'list'> 2258394976000\n",
      "900 100\n",
      "1900 380.0\n"
     ]
    }
   ],
   "source": [
    "list1 = [100, 400, 300, 200, 900]\n",
    "print (list1, len(list1), type(list1), id(list1))\n",
    "print (max(list1), min(list1))\n",
    "print (sum(list1), sum(list1) / len(list1))"
   ]
  },
  {
   "cell_type": "code",
   "execution_count": 83,
   "id": "2a830213-3ec8-47cf-8425-824ffbad9947",
   "metadata": {},
   "outputs": [
    {
     "name": "stdout",
     "output_type": "stream",
     "text": [
      "['Monday', 'tuesday', 'Wednesday', 'Friday'] 4 <class 'list'> 2258395435520\n",
      "tuesday Friday\n"
     ]
    },
    {
     "ename": "TypeError",
     "evalue": "unsupported operand type(s) for +: 'int' and 'str'",
     "output_type": "error",
     "traceback": [
      "\u001b[1;31m---------------------------------------------------------------------------\u001b[0m",
      "\u001b[1;31mTypeError\u001b[0m                                 Traceback (most recent call last)",
      "Cell \u001b[1;32mIn[83], line 4\u001b[0m\n\u001b[0;32m      2\u001b[0m \u001b[38;5;28mprint\u001b[39m (list1, \u001b[38;5;28mlen\u001b[39m(list1), \u001b[38;5;28mtype\u001b[39m(list1), \u001b[38;5;28mid\u001b[39m(list1))\n\u001b[0;32m      3\u001b[0m \u001b[38;5;28mprint\u001b[39m (\u001b[38;5;28mmax\u001b[39m(list1), \u001b[38;5;28mmin\u001b[39m(list1))\n\u001b[1;32m----> 4\u001b[0m \u001b[38;5;28mprint\u001b[39m (\u001b[38;5;28;43msum\u001b[39;49m\u001b[43m(\u001b[49m\u001b[43mlist1\u001b[49m\u001b[43m)\u001b[49m, \u001b[38;5;28msum\u001b[39m(list1) \u001b[38;5;241m/\u001b[39m \u001b[38;5;28mlen\u001b[39m(list1))\n",
      "\u001b[1;31mTypeError\u001b[0m: unsupported operand type(s) for +: 'int' and 'str'"
     ]
    }
   ],
   "source": [
    "list1 = [\"Monday\", \"tuesday\", \"Wednesday\", \"Friday\"]\n",
    "print (list1, len(list1), type(list1), id(list1))\n",
    "print (max(list1), min(list1))\n",
    "print (sum(list1), sum(list1) / len(list1))"
   ]
  },
  {
   "cell_type": "code",
   "execution_count": 84,
   "id": "901b8b2a-6651-4be9-ba94-e9452f03d368",
   "metadata": {},
   "outputs": [
    {
     "name": "stdout",
     "output_type": "stream",
     "text": [
      "[100, 400.5, 300, True, 200, False, 900] 7 <class 'list'> 2258470253632\n",
      "900 False\n",
      "1901.5 271.64285714285717\n"
     ]
    }
   ],
   "source": [
    "list1 = [100, 400.5, 300, True, 200, False, 900]\n",
    "print (list1, len(list1), type(list1), id(list1))\n",
    "print (max(list1), min(list1))\n",
    "print (sum(list1), sum(list1) / len(list1))"
   ]
  },
  {
   "cell_type": "code",
   "execution_count": 86,
   "id": "6bb1e112-f2b7-4a09-bcaa-07c343a891ba",
   "metadata": {},
   "outputs": [
    {
     "name": "stdout",
     "output_type": "stream",
     "text": [
      "[100, 400.5, 300, True, 200, False, 900, 'Rajib'] 8 <class 'list'> 2258470252928\n"
     ]
    },
    {
     "ename": "TypeError",
     "evalue": "'>' not supported between instances of 'str' and 'int'",
     "output_type": "error",
     "traceback": [
      "\u001b[1;31m---------------------------------------------------------------------------\u001b[0m",
      "\u001b[1;31mTypeError\u001b[0m                                 Traceback (most recent call last)",
      "Cell \u001b[1;32mIn[86], line 3\u001b[0m\n\u001b[0;32m      1\u001b[0m list1 \u001b[38;5;241m=\u001b[39m [\u001b[38;5;241m100\u001b[39m, \u001b[38;5;241m400.5\u001b[39m, \u001b[38;5;241m300\u001b[39m, \u001b[38;5;28;01mTrue\u001b[39;00m, \u001b[38;5;241m200\u001b[39m, \u001b[38;5;28;01mFalse\u001b[39;00m, \u001b[38;5;241m900\u001b[39m, \u001b[38;5;124m\"\u001b[39m\u001b[38;5;124mRajib\u001b[39m\u001b[38;5;124m\"\u001b[39m]\n\u001b[0;32m      2\u001b[0m \u001b[38;5;28mprint\u001b[39m (list1, \u001b[38;5;28mlen\u001b[39m(list1), \u001b[38;5;28mtype\u001b[39m(list1), \u001b[38;5;28mid\u001b[39m(list1))\n\u001b[1;32m----> 3\u001b[0m \u001b[38;5;28mprint\u001b[39m (\u001b[38;5;28;43mmax\u001b[39;49m\u001b[43m(\u001b[49m\u001b[43mlist1\u001b[49m\u001b[43m)\u001b[49m, \u001b[38;5;28mmin\u001b[39m(list1))\n\u001b[0;32m      4\u001b[0m \u001b[38;5;28mprint\u001b[39m (\u001b[38;5;28msum\u001b[39m(list1), \u001b[38;5;28msum\u001b[39m(list1) \u001b[38;5;241m/\u001b[39m \u001b[38;5;28mlen\u001b[39m(list1))\n",
      "\u001b[1;31mTypeError\u001b[0m: '>' not supported between instances of 'str' and 'int'"
     ]
    }
   ],
   "source": [
    "list1 = [100, 400.5, 300, True, 200, False, 900, \"Rajib\"]\n",
    "print (list1, len(list1), type(list1), id(list1))\n",
    "print (max(list1), min(list1))\n",
    "print (sum(list1), sum(list1) / len(list1))"
   ]
  },
  {
   "cell_type": "code",
   "execution_count": 88,
   "id": "487d019a-ec74-410f-9430-c737979c7035",
   "metadata": {},
   "outputs": [
    {
     "name": "stdout",
     "output_type": "stream",
     "text": [
      "['Tuesday', 'Wednesday', 'Friday'] 3\n",
      "['Sunday', 'Saturday'] 2\n",
      "['Tuesday', 'Wednesday', 'Friday', 'Sunday', 'Saturday'] 5\n"
     ]
    }
   ],
   "source": [
    "list1 = [\"Tuesday\", \"Wednesday\", \"Friday\"]\n",
    "list2 = [\"Sunday\", \"Saturday\"]\n",
    "print (list1, len(list1))\n",
    "print (list2, len(list2))\n",
    "list3 = list1 + list2  # list concatenation\n",
    "print (list3, len(list3))"
   ]
  },
  {
   "cell_type": "code",
   "execution_count": 92,
   "id": "5a9a96de-fe31-4219-a0ca-2ebbff29967a",
   "metadata": {},
   "outputs": [
    {
     "name": "stdout",
     "output_type": "stream",
     "text": [
      "['Tuesday', 'Wednesday', 'Friday'] 3\n",
      "['Sunday', 'Saturday'] 2\n",
      "[['Tuesday', 'Wednesday', 'Friday'], ['Sunday', 'Saturday']] 2\n"
     ]
    }
   ],
   "source": [
    "list1 = [\"Tuesday\", \"Wednesday\", \"Friday\"]\n",
    "list2 = [\"Sunday\", \"Saturday\"]\n",
    "print (list1, len(list1))\n",
    "print (list2, len(list2))\n",
    "list3 = [list1, list2]  # list of lists\n",
    "print (list3, len(list3))"
   ]
  },
  {
   "cell_type": "markdown",
   "id": "a4749ac7-cfb6-4fab-a482-590608d58e77",
   "metadata": {},
   "source": [
    "### **Tuple Processing**"
   ]
  },
  {
   "cell_type": "code",
   "execution_count": 80,
   "id": "9e450ea6-ebcc-48dd-b8df-45d87f73321f",
   "metadata": {},
   "outputs": [
    {
     "name": "stdout",
     "output_type": "stream",
     "text": [
      "(100, 400, 300, 200, 900) 5 <class 'tuple'> 2258465281408\n",
      "900 100\n",
      "1900 380.0\n"
     ]
    }
   ],
   "source": [
    "tuple1 = (100, 400, 300, 200, 900)\n",
    "print (tuple1, len(tuple1), type(tuple1), id(tuple1))\n",
    "print (max(tuple1), min(tuple1))\n",
    "print (sum(tuple1), sum(tuple1) / len(tuple1))"
   ]
  },
  {
   "cell_type": "code",
   "execution_count": 82,
   "id": "0e5b5496-e781-4c57-9e91-16affc66cba7",
   "metadata": {},
   "outputs": [
    {
     "name": "stdout",
     "output_type": "stream",
     "text": [
      "('Monday', 'Tuesday', 'Wednesday', 'Friday') 4 <class 'tuple'> 2258395323088\n",
      "Wednesday Friday\n"
     ]
    },
    {
     "ename": "TypeError",
     "evalue": "unsupported operand type(s) for +: 'int' and 'str'",
     "output_type": "error",
     "traceback": [
      "\u001b[1;31m---------------------------------------------------------------------------\u001b[0m",
      "\u001b[1;31mTypeError\u001b[0m                                 Traceback (most recent call last)",
      "Cell \u001b[1;32mIn[82], line 4\u001b[0m\n\u001b[0;32m      2\u001b[0m \u001b[38;5;28mprint\u001b[39m (tuple1, \u001b[38;5;28mlen\u001b[39m(tuple1), \u001b[38;5;28mtype\u001b[39m(tuple1), \u001b[38;5;28mid\u001b[39m(tuple1))\n\u001b[0;32m      3\u001b[0m \u001b[38;5;28mprint\u001b[39m (\u001b[38;5;28mmax\u001b[39m(tuple1), \u001b[38;5;28mmin\u001b[39m(tuple1))\n\u001b[1;32m----> 4\u001b[0m \u001b[38;5;28mprint\u001b[39m (\u001b[38;5;28;43msum\u001b[39;49m\u001b[43m(\u001b[49m\u001b[43mtuple1\u001b[49m\u001b[43m)\u001b[49m, \u001b[38;5;28msum\u001b[39m(tuple1) \u001b[38;5;241m/\u001b[39m \u001b[38;5;28mlen\u001b[39m(tuple1))\n",
      "\u001b[1;31mTypeError\u001b[0m: unsupported operand type(s) for +: 'int' and 'str'"
     ]
    }
   ],
   "source": [
    "tuple1 = (\"Monday\", \"Tuesday\", \"Wednesday\", \"Friday\")\n",
    "print (tuple1, len(tuple1), type(tuple1), id(tuple1))\n",
    "print (max(tuple1), min(tuple1))\n",
    "print (sum(tuple1), sum(tuple1) / len(tuple1))"
   ]
  },
  {
   "cell_type": "code",
   "execution_count": 85,
   "id": "4a0df8a2-5232-440b-904f-00117c2b1b6f",
   "metadata": {},
   "outputs": [
    {
     "name": "stdout",
     "output_type": "stream",
     "text": [
      "(100, 400.5, 300, True, 200, False, 900) 7 <class 'tuple'> 2258470293216\n",
      "900 False\n",
      "1901.5 271.64285714285717\n"
     ]
    }
   ],
   "source": [
    "tuple1 = (100, 400.5, 300, True, 200, False, 900)\n",
    "print (tuple1, len(tuple1), type(tuple1), id(tuple1))\n",
    "print (max(tuple1), min(tuple1))\n",
    "print (sum(tuple1), sum(tuple1) / len(tuple1))"
   ]
  },
  {
   "cell_type": "code",
   "execution_count": 87,
   "id": "177903cf-b53a-4451-bc59-426d54205cf4",
   "metadata": {},
   "outputs": [
    {
     "name": "stdout",
     "output_type": "stream",
     "text": [
      "(100, 400.5, 300, True, 200, False, 900, 'Rajib') 8 <class 'tuple'> 2258395181632\n"
     ]
    },
    {
     "ename": "TypeError",
     "evalue": "'>' not supported between instances of 'str' and 'int'",
     "output_type": "error",
     "traceback": [
      "\u001b[1;31m---------------------------------------------------------------------------\u001b[0m",
      "\u001b[1;31mTypeError\u001b[0m                                 Traceback (most recent call last)",
      "Cell \u001b[1;32mIn[87], line 3\u001b[0m\n\u001b[0;32m      1\u001b[0m tuple1 \u001b[38;5;241m=\u001b[39m (\u001b[38;5;241m100\u001b[39m, \u001b[38;5;241m400.5\u001b[39m, \u001b[38;5;241m300\u001b[39m, \u001b[38;5;28;01mTrue\u001b[39;00m, \u001b[38;5;241m200\u001b[39m, \u001b[38;5;28;01mFalse\u001b[39;00m, \u001b[38;5;241m900\u001b[39m, \u001b[38;5;124m\"\u001b[39m\u001b[38;5;124mRajib\u001b[39m\u001b[38;5;124m\"\u001b[39m)\n\u001b[0;32m      2\u001b[0m \u001b[38;5;28mprint\u001b[39m (tuple1, \u001b[38;5;28mlen\u001b[39m(tuple1), \u001b[38;5;28mtype\u001b[39m(tuple1), \u001b[38;5;28mid\u001b[39m(tuple1))\n\u001b[1;32m----> 3\u001b[0m \u001b[38;5;28mprint\u001b[39m (\u001b[38;5;28;43mmax\u001b[39;49m\u001b[43m(\u001b[49m\u001b[43mtuple1\u001b[49m\u001b[43m)\u001b[49m, \u001b[38;5;28mmin\u001b[39m(tuple1))\n\u001b[0;32m      4\u001b[0m \u001b[38;5;28mprint\u001b[39m (\u001b[38;5;28msum\u001b[39m(tuple1), \u001b[38;5;28msum\u001b[39m(tuple1) \u001b[38;5;241m/\u001b[39m \u001b[38;5;28mlen\u001b[39m(tuple1))\n",
      "\u001b[1;31mTypeError\u001b[0m: '>' not supported between instances of 'str' and 'int'"
     ]
    }
   ],
   "source": [
    "tuple1 = (100, 400.5, 300, True, 200, False, 900, \"Rajib\")\n",
    "print (tuple1, len(tuple1), type(tuple1), id(tuple1))\n",
    "print (max(tuple1), min(tuple1))\n",
    "print (sum(tuple1), sum(tuple1) / len(tuple1))"
   ]
  },
  {
   "cell_type": "code",
   "execution_count": 91,
   "id": "880d665b-1fe4-4c40-86e1-26efea3e1cc4",
   "metadata": {},
   "outputs": [
    {
     "name": "stdout",
     "output_type": "stream",
     "text": [
      "('Tuesday', 'Wednesday', 'Friday') 3 <class 'tuple'>\n",
      "('Sunday', 'Saturday') 2 <class 'tuple'>\n",
      "('Tuesday', 'Wednesday', 'Friday', 'Sunday', 'Saturday') 5\n"
     ]
    }
   ],
   "source": [
    "tuple1 = (\"Tuesday\", \"Wednesday\", \"Friday\")\n",
    "tuple2 = (\"Sunday\", \"Saturday\")\n",
    "print (tuple1, len(tuple1), type(tuple1))\n",
    "print (tuple2, len(tuple2), type(tuple2))\n",
    "tuple3 = tuple1 + tuple2  # tuple concatenation\n",
    "print (tuple3, len(tuple3))"
   ]
  },
  {
   "cell_type": "code",
   "execution_count": 93,
   "id": "d6584ce5-7cf9-4629-841a-17d77cb9e42e",
   "metadata": {},
   "outputs": [
    {
     "name": "stdout",
     "output_type": "stream",
     "text": [
      "('Tuesday', 'Wednesday', 'Friday') 3 <class 'tuple'>\n",
      "('Sunday', 'Saturday') 2 <class 'tuple'>\n",
      "(('Tuesday', 'Wednesday', 'Friday'), ('Sunday', 'Saturday')) 2\n"
     ]
    }
   ],
   "source": [
    "tuple1 = (\"Tuesday\", \"Wednesday\", \"Friday\")\n",
    "tuple2 = (\"Sunday\", \"Saturday\")\n",
    "print (tuple1, len(tuple1), type(tuple1))\n",
    "print (tuple2, len(tuple2), type(tuple2))\n",
    "tuple3 = (tuple1, tuple2)  # tuple of tuples\n",
    "print (tuple3, len(tuple3))"
   ]
  },
  {
   "cell_type": "code",
   "execution_count": null,
   "id": "926802fe-9db4-415d-a589-6d61d5748cc3",
   "metadata": {},
   "outputs": [],
   "source": []
  },
  {
   "cell_type": "code",
   "execution_count": null,
   "id": "374954bd-20aa-4fa1-8555-27ac4eae8a5b",
   "metadata": {},
   "outputs": [],
   "source": []
  },
  {
   "cell_type": "code",
   "execution_count": null,
   "id": "1161a57a-c80b-4ef1-b71d-a80df6f82758",
   "metadata": {},
   "outputs": [],
   "source": []
  },
  {
   "cell_type": "code",
   "execution_count": null,
   "id": "7bb59e7a-5522-4609-af32-7d55407d8ff8",
   "metadata": {},
   "outputs": [],
   "source": []
  },
  {
   "cell_type": "code",
   "execution_count": null,
   "id": "ea9a7357-5d8d-4c65-889f-cb8301fd4af9",
   "metadata": {},
   "outputs": [],
   "source": []
  },
  {
   "cell_type": "code",
   "execution_count": null,
   "id": "8a2f998a-ff8d-4c31-8a4a-9e5d5eeae538",
   "metadata": {},
   "outputs": [],
   "source": []
  },
  {
   "cell_type": "code",
   "execution_count": null,
   "id": "e85007aa-ea29-4470-8003-190d3f71cdcb",
   "metadata": {},
   "outputs": [],
   "source": []
  },
  {
   "cell_type": "code",
   "execution_count": null,
   "id": "4ee83e2b-ac2f-4d34-b032-dfd63c860871",
   "metadata": {},
   "outputs": [],
   "source": []
  },
  {
   "cell_type": "code",
   "execution_count": null,
   "id": "44a838e1-30c7-40a2-9380-6b1fbac0c977",
   "metadata": {},
   "outputs": [],
   "source": []
  },
  {
   "cell_type": "code",
   "execution_count": null,
   "id": "fec9439a-d5f7-4395-8083-52d17e480f7e",
   "metadata": {},
   "outputs": [],
   "source": []
  },
  {
   "cell_type": "code",
   "execution_count": null,
   "id": "0052662a-04d7-49ca-b64d-2325da6f50b8",
   "metadata": {},
   "outputs": [],
   "source": []
  },
  {
   "cell_type": "code",
   "execution_count": null,
   "id": "8afad88d-a8f4-4bb5-b7f8-fceb074ebfd8",
   "metadata": {},
   "outputs": [],
   "source": []
  },
  {
   "cell_type": "code",
   "execution_count": null,
   "id": "5a124cfd-30af-4533-9e79-3511a8352fd4",
   "metadata": {},
   "outputs": [],
   "source": []
  },
  {
   "cell_type": "code",
   "execution_count": null,
   "id": "98a2f4e6-91bf-4ff1-8469-2e762ad6f3cf",
   "metadata": {},
   "outputs": [],
   "source": []
  },
  {
   "cell_type": "code",
   "execution_count": null,
   "id": "69a3ae27-16d9-4418-b8e3-24faf6cc9912",
   "metadata": {},
   "outputs": [],
   "source": []
  },
  {
   "cell_type": "code",
   "execution_count": null,
   "id": "2b431edf-031a-442c-8da9-c7b4108fc5ca",
   "metadata": {},
   "outputs": [],
   "source": []
  },
  {
   "cell_type": "code",
   "execution_count": null,
   "id": "c845e47c-700a-4574-8593-8fbee4cae1cd",
   "metadata": {},
   "outputs": [],
   "source": []
  },
  {
   "cell_type": "code",
   "execution_count": null,
   "id": "75834deb-ef19-43a1-98e8-495f89a2a524",
   "metadata": {},
   "outputs": [],
   "source": []
  },
  {
   "cell_type": "code",
   "execution_count": null,
   "id": "9f5db593-7da6-4b1f-9afd-54b097fa2c68",
   "metadata": {},
   "outputs": [],
   "source": []
  },
  {
   "cell_type": "code",
   "execution_count": null,
   "id": "f1a94f63-00aa-41fb-aede-db1ada87c004",
   "metadata": {},
   "outputs": [],
   "source": []
  },
  {
   "cell_type": "code",
   "execution_count": null,
   "id": "e3512979-bc07-4bab-94db-ddbf7dc5dab7",
   "metadata": {},
   "outputs": [],
   "source": []
  },
  {
   "cell_type": "code",
   "execution_count": null,
   "id": "dcbeb345-9182-4992-8a03-595a37241496",
   "metadata": {},
   "outputs": [],
   "source": []
  },
  {
   "cell_type": "code",
   "execution_count": null,
   "id": "2243d42c-7c34-467b-86c2-1a741df89474",
   "metadata": {},
   "outputs": [],
   "source": []
  },
  {
   "cell_type": "code",
   "execution_count": null,
   "id": "ecf3013c-849c-45df-8e52-840507ae5a43",
   "metadata": {},
   "outputs": [],
   "source": []
  },
  {
   "cell_type": "code",
   "execution_count": null,
   "id": "dfdd0cfb-f5ac-43e5-bf7f-3c0ac5a2cb07",
   "metadata": {},
   "outputs": [],
   "source": []
  }
 ],
 "metadata": {
  "kernelspec": {
   "display_name": "Python 3 (ipykernel)",
   "language": "python",
   "name": "python3"
  },
  "language_info": {
   "codemirror_mode": {
    "name": "ipython",
    "version": 3
   },
   "file_extension": ".py",
   "mimetype": "text/x-python",
   "name": "python",
   "nbconvert_exporter": "python",
   "pygments_lexer": "ipython3",
   "version": "3.10.9"
  }
 },
 "nbformat": 4,
 "nbformat_minor": 5
}
