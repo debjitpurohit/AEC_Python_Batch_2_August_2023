{
 "cells": [
  {
   "cell_type": "markdown",
   "id": "7a770f43-ae03-47b5-8b54-d79c8c50e475",
   "metadata": {},
   "source": [
    "### **String Processing**"
   ]
  },
  {
   "cell_type": "code",
   "execution_count": null,
   "id": "fef16445-9c0a-4ade-be8d-1cc351f6ae53",
   "metadata": {},
   "outputs": [],
   "source": [
    "Left to Right ->   0   1   2   3   4   5   6   7   8   9\n",
    "        mystr ->   u   n   i   v   e   r   s   i   t   y\n",
    "Right to Left -> -10  -9  -8  -7  -6  -5  -4  -3  -2  -1"
   ]
  },
  {
   "cell_type": "code",
   "execution_count": 21,
   "id": "467119ff-9638-49d1-bb21-b76bf79f393a",
   "metadata": {},
   "outputs": [
    {
     "name": "stdout",
     "output_type": "stream",
     "text": [
      "university 10 <class 'str'> 2258427820784\n",
      "i i i i e e\n",
      "univer univer univer univer\n",
      "sity sity\n",
      "niversi niversi niversi niversi\n",
      "ver ver ver ver\n",
      "nvriy uiest yirvn yirvn tseiu tseiu\n",
      "ytisrevinu\n"
     ]
    }
   ],
   "source": [
    "mystr = \"university\"\n",
    "print (mystr, len(mystr), type(mystr), id(mystr))\n",
    "print (mystr[2], mystr[-8], mystr[7], mystr[-3], mystr[4], mystr[-6]) # indexing\n",
    "print (mystr[0:6], mystr[0:-4], mystr[:6], mystr[:-4]) # slicing\n",
    "print (mystr[6:], mystr[-4:])\n",
    "print (mystr[1:8], mystr[-9:-2], mystr[1:-2], mystr[-9:8])\n",
    "print (mystr[3:6], mystr[-7:-4], mystr[3:-4], mystr[-7:6])\n",
    "print (mystr[1::2], mystr[0::2], mystr[9:0:-2], mystr[-1:0:-2], mystr[8::-2], mystr[-2::-2])\n",
    "print (mystr[::-1])"
   ]
  },
  {
   "cell_type": "code",
   "execution_count": 24,
   "id": "9dc5bf8c-bca3-4ba6-b5fa-3e424732b947",
   "metadata": {},
   "outputs": [
    {
     "name": "stdout",
     "output_type": "stream",
     "text": [
      "calCUtTa unIVerSitY 19 <class 'str'> 2258422536016\n",
      "CALCUTTA UNIVERSITY\n",
      "calcutta university\n",
      "Calcutta university\n",
      "Calcutta University\n",
      "CALcuTtA UNivERsITy\n",
      "          calCUtTa unIVerSitY           \n",
      "          CALCUTTA UNIVERSITY           \n",
      "          CALCUTTA UNIVERSITY           \n"
     ]
    }
   ],
   "source": [
    "mystr = \"calCUtTa unIVerSitY\"\n",
    "print (mystr, len(mystr), type(mystr), id(mystr))\n",
    "print (mystr.upper())\n",
    "print (mystr.lower())\n",
    "print (mystr.capitalize())\n",
    "print (mystr.title())\n",
    "print (mystr.swapcase())\n",
    "print (mystr.center(40))\n",
    "print (mystr.upper().center(40))\n",
    "print (mystr.center(40).upper())"
   ]
  },
  {
   "cell_type": "code",
   "execution_count": 32,
   "id": "0a600655-924a-46ba-b6e6-6615e3850232",
   "metadata": {},
   "outputs": [
    {
     "name": "stdout",
     "output_type": "stream",
     "text": [
      "charity begins at home 22 <class 'str'> 2258454780928\n",
      "2 4 11 -1\n",
      "-1 2 10 -1\n"
     ]
    }
   ],
   "source": [
    "mystr = \"charity begins at home\"\n",
    "print (mystr, len(mystr), type(mystr), id(mystr))\n",
    "print (mystr.find(\"ari\"), mystr.find(\"i\"), mystr.find(\"i\", 5), mystr.find(\"i\", 12))\n",
    "print (mystr.find(\"ArI\"), mystr.find(\"ArI\".lower()), mystr.find(\"gins\", 8), mystr.find(\"gins\", 8, 12))"
   ]
  },
  {
   "cell_type": "code",
   "execution_count": 37,
   "id": "ffa732e6-8142-4506-9b6d-91330ce693c0",
   "metadata": {},
   "outputs": [
    {
     "name": "stdout",
     "output_type": "stream",
     "text": [
      "charity begins at home 22 <class 'str'> 2258429977792\n",
      "2\n",
      "4\n",
      "11\n"
     ]
    },
    {
     "ename": "ValueError",
     "evalue": "substring not found",
     "output_type": "error",
     "traceback": [
      "\u001b[1;31m---------------------------------------------------------------------------\u001b[0m",
      "\u001b[1;31mValueError\u001b[0m                                Traceback (most recent call last)",
      "Cell \u001b[1;32mIn[37], line 6\u001b[0m\n\u001b[0;32m      4\u001b[0m \u001b[38;5;28mprint\u001b[39m (mystr\u001b[38;5;241m.\u001b[39mindex(\u001b[38;5;124m\"\u001b[39m\u001b[38;5;124mi\u001b[39m\u001b[38;5;124m\"\u001b[39m))\n\u001b[0;32m      5\u001b[0m \u001b[38;5;28mprint\u001b[39m (mystr\u001b[38;5;241m.\u001b[39mindex(\u001b[38;5;124m\"\u001b[39m\u001b[38;5;124mi\u001b[39m\u001b[38;5;124m\"\u001b[39m, \u001b[38;5;241m5\u001b[39m))\n\u001b[1;32m----> 6\u001b[0m \u001b[38;5;28mprint\u001b[39m (\u001b[43mmystr\u001b[49m\u001b[38;5;241;43m.\u001b[39;49m\u001b[43mindex\u001b[49m\u001b[43m(\u001b[49m\u001b[38;5;124;43m\"\u001b[39;49m\u001b[38;5;124;43mi\u001b[39;49m\u001b[38;5;124;43m\"\u001b[39;49m\u001b[43m,\u001b[49m\u001b[43m \u001b[49m\u001b[38;5;241;43m12\u001b[39;49m\u001b[43m)\u001b[49m)\n",
      "\u001b[1;31mValueError\u001b[0m: substring not found"
     ]
    }
   ],
   "source": [
    "mystr = \"charity begins at home\"\n",
    "print (mystr, len(mystr), type(mystr), id(mystr))\n",
    "print (mystr.index(\"ari\"))\n",
    "print (mystr.index(\"i\"))\n",
    "print (mystr.index(\"i\", 5))\n",
    "print (mystr.index(\"i\", 12))"
   ]
  },
  {
   "cell_type": "code",
   "execution_count": 36,
   "id": "93ee5c3a-1c8b-451a-8016-6baa22762507",
   "metadata": {},
   "outputs": [
    {
     "name": "stdout",
     "output_type": "stream",
     "text": [
      "charity begins at home 22 <class 'str'> 2258457822112\n",
      "2\n",
      "4\n",
      "11\n",
      "Unsuccessful Searching...!!!\n"
     ]
    }
   ],
   "source": [
    "mystr = \"charity begins at home\"\n",
    "print (mystr, len(mystr), type(mystr), id(mystr))\n",
    "try:\n",
    "    print (mystr.index(\"ari\"))\n",
    "    print (mystr.index(\"i\"))\n",
    "    print (mystr.index(\"i\", 5))\n",
    "    print (mystr.index(\"i\", 12))\n",
    "except ValueError as ve:\n",
    "    print (\"Unsuccessful Searching...!!!\")"
   ]
  },
  {
   "cell_type": "code",
   "execution_count": null,
   "id": "c838f0cd-fc46-4983-a0b2-a82cd89c23eb",
   "metadata": {},
   "outputs": [],
   "source": []
  },
  {
   "cell_type": "code",
   "execution_count": null,
   "id": "5b60c67b-4552-4f53-b534-55beb741137d",
   "metadata": {},
   "outputs": [],
   "source": []
  },
  {
   "cell_type": "code",
   "execution_count": null,
   "id": "208d568c-b2fb-40c2-a6b8-e5c259cdab43",
   "metadata": {},
   "outputs": [],
   "source": []
  },
  {
   "cell_type": "code",
   "execution_count": null,
   "id": "462fd3ae-b86a-41ba-8d60-abd3fa19206a",
   "metadata": {},
   "outputs": [],
   "source": []
  },
  {
   "cell_type": "code",
   "execution_count": null,
   "id": "0b188dea-886b-4ab7-a954-94812f4c2821",
   "metadata": {},
   "outputs": [],
   "source": []
  },
  {
   "cell_type": "code",
   "execution_count": null,
   "id": "b8b7fd03-7567-49f7-9b80-24097184dace",
   "metadata": {},
   "outputs": [],
   "source": []
  },
  {
   "cell_type": "code",
   "execution_count": null,
   "id": "be2602b0-2e32-402d-af63-6159dc80b863",
   "metadata": {},
   "outputs": [],
   "source": []
  },
  {
   "cell_type": "code",
   "execution_count": null,
   "id": "222afb82-a6b5-4e2c-a584-9b8025a1b087",
   "metadata": {},
   "outputs": [],
   "source": []
  },
  {
   "cell_type": "code",
   "execution_count": null,
   "id": "51979055-ee2f-48a6-ac37-e3b25dc640af",
   "metadata": {},
   "outputs": [],
   "source": []
  },
  {
   "cell_type": "code",
   "execution_count": null,
   "id": "fa47caca-8ec4-4d2d-adfa-ba26859bd43a",
   "metadata": {},
   "outputs": [],
   "source": []
  },
  {
   "cell_type": "code",
   "execution_count": null,
   "id": "a0f8b5a3-af38-4c7d-b868-a2fd0e1db010",
   "metadata": {},
   "outputs": [],
   "source": []
  },
  {
   "cell_type": "code",
   "execution_count": null,
   "id": "1c75e465-e815-47cc-8989-4be4713794e6",
   "metadata": {},
   "outputs": [],
   "source": []
  },
  {
   "cell_type": "code",
   "execution_count": null,
   "id": "c73c943d-cde9-4373-8c36-ee091f934fd4",
   "metadata": {},
   "outputs": [],
   "source": []
  },
  {
   "cell_type": "code",
   "execution_count": null,
   "id": "76e088f0-32b3-4a60-971b-a289f01c0a05",
   "metadata": {},
   "outputs": [],
   "source": []
  },
  {
   "cell_type": "markdown",
   "id": "427b89c9-3dd8-437f-bec2-378620abcbfc",
   "metadata": {},
   "source": [
    "### **List Processing**"
   ]
  },
  {
   "cell_type": "code",
   "execution_count": null,
   "id": "63dc521c-c572-4ef2-b0de-26cc7e758bfa",
   "metadata": {},
   "outputs": [],
   "source": []
  },
  {
   "cell_type": "markdown",
   "id": "a4749ac7-cfb6-4fab-a482-590608d58e77",
   "metadata": {},
   "source": [
    "### **Tuple Processing**"
   ]
  },
  {
   "cell_type": "code",
   "execution_count": null,
   "id": "9e450ea6-ebcc-48dd-b8df-45d87f73321f",
   "metadata": {},
   "outputs": [],
   "source": []
  }
 ],
 "metadata": {
  "kernelspec": {
   "display_name": "Python 3 (ipykernel)",
   "language": "python",
   "name": "python3"
  },
  "language_info": {
   "codemirror_mode": {
    "name": "ipython",
    "version": 3
   },
   "file_extension": ".py",
   "mimetype": "text/x-python",
   "name": "python",
   "nbconvert_exporter": "python",
   "pygments_lexer": "ipython3",
   "version": "3.10.9"
  }
 },
 "nbformat": 4,
 "nbformat_minor": 5
}
